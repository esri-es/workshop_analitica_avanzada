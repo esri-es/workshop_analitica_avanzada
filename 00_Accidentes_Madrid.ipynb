{
 "cells": [
  {
   "attachments": {},
   "cell_type": "markdown",
   "id": "98cf3baa",
   "metadata": {},
   "source": [
    "# Introducción"
   ]
  },
  {
   "cell_type": "code",
   "execution_count": 8,
   "id": "2ae8f180",
   "metadata": {
    "scrolled": true
   },
   "outputs": [
    {
     "data": {
      "application/javascript": "IPython.OutputArea.prototype._should_scroll = function(lines) {\n    return false;\n}\n",
      "text/plain": [
       "<IPython.core.display.Javascript object>"
      ]
     },
     "metadata": {},
     "output_type": "display_data"
    }
   ],
   "source": [
    "%%javascript\n",
    "IPython.OutputArea.prototype._should_scroll = function(lines) {\n",
    "    return false;\n",
    "}"
   ]
  },
  {
   "cell_type": "code",
   "execution_count": 9,
   "id": "17d02656",
   "metadata": {},
   "outputs": [],
   "source": [
    "import warnings\n",
    "import pandas as pd\n",
    "warnings.filterwarnings(\"ignore\", category=pd.core.common.SettingWithCopyWarning)"
   ]
  },
  {
   "attachments": {},
   "cell_type": "markdown",
   "id": "bb273a4e",
   "metadata": {},
   "source": [
    "<div style=\"position: relative;\">\n",
    "    <img src=\"https://www.arcgis.com/sharing/rest/content/items/10bc2a493a974d5caf024ff13d7891b3/resources/images/widget_178/1622195050113.jpg\" width=\"1100\"/>\n",
    "    <p style=\"color:white; font-size:36px; font-weight:bold; position:absolute; top:50px; left:120px;\">Análisis de Siniestralidad |</p>\n",
    "    <p style=\"color:white; font-size:20px; font-weight:bold; position:absolute; top:70px; left:580px;\">Madrid</p>\n",
    "    <p style=\"color:white; font-size:24px; position:absolute; top:100px; left:120px;\">GIS & Spatial Data Science</p>    \n",
    "</div>\n"
   ]
  },
  {
   "attachments": {},
   "cell_type": "markdown",
   "id": "cde87ae6",
   "metadata": {},
   "source": [
    "<div style=\"position: relative;\">\n",
    "    <img src=\"https://media.licdn.com/dms/image/C5612AQHzwP87iXPCBA/article-inline_image-shrink_1500_2232/0/1595492940439?e=1692230400&v=beta&t=yaN2L0M58wNSNpAbyePhy0ok9ZPqHdzZVVuY8EY4Yr0\" width=\"1100\"/>\n",
    "    <p style=\"color:black; font-size:36px; font-weight:bold; position:absolute; top:50px; left:120px;\">Ciencia de datos ≈ Cocinar</p> \n",
    "</div>"
   ]
  },
  {
   "attachments": {},
   "cell_type": "markdown",
   "id": "698f46a4",
   "metadata": {
    "slideshow": {
     "slide_type": "-"
    }
   },
   "source": [
    "<div style=\"text-align:center\">\n",
    "    <span style=\"font-size: 30px;\"><strong>Análisis de Siniestralidad | Madrid</strong></span>\n",
    "    <br>\n",
    "    <span style=\"font-size: 20px;\">GIS & Spatial Data Science</span>\n",
    "</div>\n",
    " <br>\n",
    " <br>\n"
   ]
  },
  {
   "attachments": {},
   "cell_type": "markdown",
   "id": "406827a7",
   "metadata": {},
   "source": [
    "\n",
    "<div style=\"text-align:center\">\n",
    "    <img src=\"https://d35fo82fjcw0y8.cloudfront.net/2016/07/03210504/infographic-chef-vs-analyst-01-01-3.jpg\"/>\n",
    "</div>\n"
   ]
  },
  {
   "attachments": {},
   "cell_type": "markdown",
   "id": "3fc85c01",
   "metadata": {},
   "source": [
    "<div style=\"text-align:left\">\n",
    "    <span style=\"font-size: 20px;\"><strong>Guía de estudio</strong></span>\n",
    "</div>\n",
    "<ol>\n",
    "    <li>Procesamiento de datos (Ingesta, Limpieza, eliminar nulos, formatos correctos, duplicados,...)</li>\n",
    "    <li>Exploración y visualización del dato (Análisis descriptivo: Graficos y mapas)</li>\n",
    "    <li>Análisis Forense</li>\n",
    "    <li>Análisis predictivo (modelo)</li>\n",
    "    <li>Conclusión y comunicar los datos</li>\n",
    "</ol>"
   ]
  },
  {
   "attachments": {},
   "cell_type": "markdown",
   "id": "c19128bb",
   "metadata": {},
   "source": [
    "# Procesamiento de datos"
   ]
  },
  {
   "attachments": {},
   "cell_type": "markdown",
   "id": "820739c8",
   "metadata": {
    "hide_input": true
   },
   "source": [
    "## Ingesta de datos\n"
   ]
  },
  {
   "attachments": {},
   "cell_type": "markdown",
   "id": "7c511e3e",
   "metadata": {},
   "source": [
    "<div style=\"text-align:center\">\n",
    "    <img src=\"https://datos.gob.es/sites/default/files/styles/aporta_teaser/public/madrid.jpg?itok=OLlU2-mS\" alt=\"drawing\" width=\"200\"/>\n",
    "</div>\n",
    "\n",
    "<div style=\"text-align:center\">\n",
    "    <a href=\"https://datos.madrid.es/sites/v/index.jsp?vgnextoid=7c2843010d9c3610VgnVCM2000001f4a900aRCRD&vgnextchannel=374512b9ace9f310VgnVCM100000171f5a0aRCRD\">VER PORTAL</a>\n",
    "</div>"
   ]
  },
  {
   "attachments": {},
   "cell_type": "markdown",
   "id": "e9eb8f16",
   "metadata": {},
   "source": [
    "Links de descarga de los CSV:\n",
    "\n",
    "- https://datos.madrid.es/egob/catalogo/300228-26-accidentes-trafico-detalle.csv\n",
    "\n",
    "- https://datos.madrid.es/egob/catalogo/300228-24-accidentes-trafico-detalle.csv\n",
    "\n",
    "- https://datos.madrid.es/egob/catalogo/300228-22-accidentes-trafico-detalle.csv\n",
    "\n",
    "- https://datos.madrid.es/egob/catalogo/300228-21-accidentes-trafico-detalle.csv\n",
    "\n",
    "- https://datos.madrid.es/egob/catalogo/300228-19-accidentes-trafico-detalle.csv"
   ]
  },
  {
   "cell_type": "code",
   "execution_count": 10,
   "id": "eab61eb3",
   "metadata": {},
   "outputs": [
    {
     "data": {
      "text/plain": [
       "(51811, 19)"
      ]
     },
     "execution_count": 10,
     "metadata": {},
     "output_type": "execute_result"
    }
   ],
   "source": [
    "# Cargamos unos datos de muestra \n",
    "import pandas as pd\n",
    "\n",
    "csv_2019 = 'C:\\\\00_Accidentes_Madrid\\\\datos\\\\2019_Accidentalidad.csv'\n",
    "df_2019 = pd.read_csv(csv_2019, delimiter=\";\")\n",
    "df_2019.head(3)\n",
    "df_2019.shape"
   ]
  },
  {
   "attachments": {},
   "cell_type": "markdown",
   "id": "b6792df3",
   "metadata": {},
   "source": [
    "Impotamos todo los CSV de desde el año 2019 hasta el 2023 \n",
    "Comprobamos la dimensiones de cada uno "
   ]
  },
  {
   "cell_type": "code",
   "execution_count": 11,
   "id": "bf577439",
   "metadata": {
    "hide_input": false
   },
   "outputs": [
    {
     "data": {
      "text/html": [
       "<div>\n",
       "<style scoped>\n",
       "    .dataframe tbody tr th:only-of-type {\n",
       "        vertical-align: middle;\n",
       "    }\n",
       "\n",
       "    .dataframe tbody tr th {\n",
       "        vertical-align: top;\n",
       "    }\n",
       "\n",
       "    .dataframe thead th {\n",
       "        text-align: right;\n",
       "    }\n",
       "</style>\n",
       "<table border=\"1\" class=\"dataframe\">\n",
       "  <thead>\n",
       "    <tr style=\"text-align: right;\">\n",
       "      <th></th>\n",
       "      <th>Año</th>\n",
       "      <th>Filas</th>\n",
       "      <th>Columnas</th>\n",
       "    </tr>\n",
       "  </thead>\n",
       "  <tbody>\n",
       "    <tr>\n",
       "      <th>0</th>\n",
       "      <td>2019</td>\n",
       "      <td>51811</td>\n",
       "      <td>19</td>\n",
       "    </tr>\n",
       "    <tr>\n",
       "      <th>1</th>\n",
       "      <td>2020</td>\n",
       "      <td>32433</td>\n",
       "      <td>19</td>\n",
       "    </tr>\n",
       "    <tr>\n",
       "      <th>2</th>\n",
       "      <td>2021</td>\n",
       "      <td>41783</td>\n",
       "      <td>19</td>\n",
       "    </tr>\n",
       "    <tr>\n",
       "      <th>3</th>\n",
       "      <td>2022</td>\n",
       "      <td>47053</td>\n",
       "      <td>21</td>\n",
       "    </tr>\n",
       "    <tr>\n",
       "      <th>4</th>\n",
       "      <td>2023</td>\n",
       "      <td>16217</td>\n",
       "      <td>21</td>\n",
       "    </tr>\n",
       "  </tbody>\n",
       "</table>\n",
       "</div>"
      ],
      "text/plain": [
       "    Año  Filas  Columnas\n",
       "0  2019  51811        19\n",
       "1  2020  32433        19\n",
       "2  2021  41783        19\n",
       "3  2022  47053        21\n",
       "4  2023  16217        21"
      ]
     },
     "execution_count": 11,
     "metadata": {},
     "output_type": "execute_result"
    }
   ],
   "source": [
    "import os\n",
    "\n",
    "# Obtener la ruta absoluta del directorio actual\n",
    "dir_actual = os.getcwd()\n",
    "\n",
    "# Ruta ruta relativa al archivo en la carpeta \"datos\"\n",
    "mis_datos = \"datos/\"\n",
    "\n",
    "# Lista de años\n",
    "años = [2019, 2020, 2021, 2022, 2023]\n",
    "\n",
    "# Lista para almacenar las dimensiones\n",
    "dimensiones = []\n",
    "\n",
    "# Obtener la ruta absoluta del directorio actual\n",
    "current_dir = os.getcwd()\n",
    "\n",
    "# Iterar sobre los años\n",
    "for año in años:\n",
    "    # Construir la ruta del archivo CSV\n",
    "    ruta_csv = os.path.join(current_dir, mis_datos, f\"{año}_Accidentalidad.csv\")\n",
    "    \n",
    "    # Leer el archivo CSV para el año actual\n",
    "    df = pd.read_csv(ruta_csv, delimiter=\";\")\n",
    "    \n",
    "    # Obtener las dimensiones del DataFrame\n",
    "    filas, columnas = df.shape\n",
    "    \n",
    "    # Agregar las dimensiones a la lista\n",
    "    dimensiones.append({'Año': año, 'Filas': filas, 'Columnas': columnas})\n",
    "\n",
    "# Crear el DataFrame dimensiones_df usando pd.DataFrame()\n",
    "dimensiones_df = pd.DataFrame(dimensiones)\n",
    "\n",
    "# Imprimir el DataFrame con las dimensiones\n",
    "dimensiones_df\n"
   ]
  },
  {
   "attachments": {},
   "cell_type": "markdown",
   "id": "b8b30631",
   "metadata": {},
   "source": [
    "Vemos que no todos los dataframe tienen el mismo tamaño. \n",
    "Comprobanos el nombre de las columnas antes de unir las tablas."
   ]
  },
  {
   "attachments": {},
   "cell_type": "markdown",
   "id": "23c33ddb",
   "metadata": {
    "heading_collapsed": true
   },
   "source": [
    "## Limpieza de datos (Preparación, transformación)\n"
   ]
  },
  {
   "attachments": {},
   "cell_type": "markdown",
   "id": "e332c937",
   "metadata": {
    "hidden": true
   },
   "source": [
    "<div style=\"text-align:center\">\n",
    "    <img src=\"./assets/Clean_data.png\" alt=\"drawing\" width=\"200\"/>\n",
    "</div>\n"
   ]
  },
  {
   "cell_type": "code",
   "execution_count": 12,
   "id": "54433dcc",
   "metadata": {
    "hidden": true
   },
   "outputs": [
    {
     "data": {
      "text/html": [
       "<div>\n",
       "<style scoped>\n",
       "    .dataframe tbody tr th:only-of-type {\n",
       "        vertical-align: middle;\n",
       "    }\n",
       "\n",
       "    .dataframe tbody tr th {\n",
       "        vertical-align: top;\n",
       "    }\n",
       "\n",
       "    .dataframe thead th {\n",
       "        text-align: right;\n",
       "    }\n",
       "</style>\n",
       "<table border=\"1\" class=\"dataframe\">\n",
       "  <thead>\n",
       "    <tr style=\"text-align: right;\">\n",
       "      <th></th>\n",
       "      <th>2019</th>\n",
       "      <th>2020</th>\n",
       "      <th>2021</th>\n",
       "      <th>2022</th>\n",
       "      <th>2023</th>\n",
       "    </tr>\n",
       "  </thead>\n",
       "  <tbody>\n",
       "    <tr>\n",
       "      <th>0</th>\n",
       "      <td>num_expediente</td>\n",
       "      <td>num_expediente</td>\n",
       "      <td>num_expediente</td>\n",
       "      <td>num_expediente</td>\n",
       "      <td>num_expediente</td>\n",
       "    </tr>\n",
       "    <tr>\n",
       "      <th>1</th>\n",
       "      <td>fecha</td>\n",
       "      <td>fecha</td>\n",
       "      <td>fecha</td>\n",
       "      <td>fecha</td>\n",
       "      <td>fecha</td>\n",
       "    </tr>\n",
       "    <tr>\n",
       "      <th>2</th>\n",
       "      <td>hora</td>\n",
       "      <td>hora</td>\n",
       "      <td>hora</td>\n",
       "      <td>hora</td>\n",
       "      <td>hora</td>\n",
       "    </tr>\n",
       "    <tr>\n",
       "      <th>3</th>\n",
       "      <td>localizacion</td>\n",
       "      <td>localizacion</td>\n",
       "      <td>localizacion</td>\n",
       "      <td>localizacion</td>\n",
       "      <td>localizacion</td>\n",
       "    </tr>\n",
       "    <tr>\n",
       "      <th>4</th>\n",
       "      <td>numero</td>\n",
       "      <td>numero</td>\n",
       "      <td>numero</td>\n",
       "      <td>numero</td>\n",
       "      <td>numero</td>\n",
       "    </tr>\n",
       "    <tr>\n",
       "      <th>5</th>\n",
       "      <td>cod_distrito</td>\n",
       "      <td>cod_distrito</td>\n",
       "      <td>cod_distrito</td>\n",
       "      <td>cod_distrito</td>\n",
       "      <td>cod_distrito</td>\n",
       "    </tr>\n",
       "    <tr>\n",
       "      <th>6</th>\n",
       "      <td>distrito</td>\n",
       "      <td>distrito</td>\n",
       "      <td>distrito</td>\n",
       "      <td>distrito</td>\n",
       "      <td>distrito</td>\n",
       "    </tr>\n",
       "    <tr>\n",
       "      <th>7</th>\n",
       "      <td>tipo_accidente</td>\n",
       "      <td>tipo_accidente</td>\n",
       "      <td>tipo_accidente</td>\n",
       "      <td>tipo_accidente</td>\n",
       "      <td>tipo_accidente</td>\n",
       "    </tr>\n",
       "    <tr>\n",
       "      <th>8</th>\n",
       "      <td>estado_meteorológico</td>\n",
       "      <td>estado_meteorológico</td>\n",
       "      <td>estado_meteorológico</td>\n",
       "      <td>estado_meteorológico</td>\n",
       "      <td>estado_meteorológico</td>\n",
       "    </tr>\n",
       "    <tr>\n",
       "      <th>9</th>\n",
       "      <td>tipo_vehiculo</td>\n",
       "      <td>tipo_vehiculo</td>\n",
       "      <td>tipo_vehiculo</td>\n",
       "      <td>tipo_vehiculo</td>\n",
       "      <td>tipo_vehiculo</td>\n",
       "    </tr>\n",
       "    <tr>\n",
       "      <th>10</th>\n",
       "      <td>tipo_persona</td>\n",
       "      <td>tipo_persona</td>\n",
       "      <td>tipo_persona</td>\n",
       "      <td>tipo_persona</td>\n",
       "      <td>tipo_persona</td>\n",
       "    </tr>\n",
       "    <tr>\n",
       "      <th>11</th>\n",
       "      <td>rango_edad</td>\n",
       "      <td>rango_edad</td>\n",
       "      <td>rango_edad</td>\n",
       "      <td>rango_edad</td>\n",
       "      <td>rango_edad</td>\n",
       "    </tr>\n",
       "    <tr>\n",
       "      <th>12</th>\n",
       "      <td>sexo</td>\n",
       "      <td>sexo</td>\n",
       "      <td>sexo</td>\n",
       "      <td>sexo</td>\n",
       "      <td>sexo</td>\n",
       "    </tr>\n",
       "    <tr>\n",
       "      <th>13</th>\n",
       "      <td>cod_lesividad</td>\n",
       "      <td>cod_lesividad</td>\n",
       "      <td>cod_lesividad</td>\n",
       "      <td>cod_lesividad</td>\n",
       "      <td>cod_lesividad</td>\n",
       "    </tr>\n",
       "    <tr>\n",
       "      <th>14</th>\n",
       "      <td>lesividad</td>\n",
       "      <td>lesividad</td>\n",
       "      <td>lesividad</td>\n",
       "      <td>lesividad</td>\n",
       "      <td>lesividad</td>\n",
       "    </tr>\n",
       "    <tr>\n",
       "      <th>15</th>\n",
       "      <td>coordenada_x_utm</td>\n",
       "      <td>coordenada_x_utm</td>\n",
       "      <td>coordenada_x_utm</td>\n",
       "      <td>coordenada_x_utm</td>\n",
       "      <td>coordenada_x_utm</td>\n",
       "    </tr>\n",
       "    <tr>\n",
       "      <th>16</th>\n",
       "      <td>coordenada_y_utm</td>\n",
       "      <td>coordenada_y_utm</td>\n",
       "      <td>coordenada_y_utm</td>\n",
       "      <td>coordenada_y_utm</td>\n",
       "      <td>coordenada_y_utm</td>\n",
       "    </tr>\n",
       "    <tr>\n",
       "      <th>17</th>\n",
       "      <td>positiva_alcohol</td>\n",
       "      <td>positiva_alcohol</td>\n",
       "      <td>positiva_alcohol</td>\n",
       "      <td>positiva_alcohol</td>\n",
       "      <td>positiva_alcohol</td>\n",
       "    </tr>\n",
       "    <tr>\n",
       "      <th>18</th>\n",
       "      <td>positiva_droga</td>\n",
       "      <td>positiva_droga</td>\n",
       "      <td>positiva_droga</td>\n",
       "      <td>positiva_droga</td>\n",
       "      <td>positiva_droga</td>\n",
       "    </tr>\n",
       "    <tr>\n",
       "      <th>19</th>\n",
       "      <td>NaN</td>\n",
       "      <td>NaN</td>\n",
       "      <td>NaN</td>\n",
       "      <td>Unnamed: 19</td>\n",
       "      <td>Unnamed: 19</td>\n",
       "    </tr>\n",
       "    <tr>\n",
       "      <th>20</th>\n",
       "      <td>NaN</td>\n",
       "      <td>NaN</td>\n",
       "      <td>NaN</td>\n",
       "      <td>Unnamed: 20</td>\n",
       "      <td>Unnamed: 20</td>\n",
       "    </tr>\n",
       "  </tbody>\n",
       "</table>\n",
       "</div>"
      ],
      "text/plain": [
       "                    2019  ...                  2023\n",
       "0         num_expediente  ...        num_expediente\n",
       "1                  fecha  ...                 fecha\n",
       "2                   hora  ...                  hora\n",
       "3           localizacion  ...          localizacion\n",
       "4                 numero  ...                numero\n",
       "5           cod_distrito  ...          cod_distrito\n",
       "6               distrito  ...              distrito\n",
       "7         tipo_accidente  ...        tipo_accidente\n",
       "8   estado_meteorológico  ...  estado_meteorológico\n",
       "9          tipo_vehiculo  ...         tipo_vehiculo\n",
       "10          tipo_persona  ...          tipo_persona\n",
       "11            rango_edad  ...            rango_edad\n",
       "12                  sexo  ...                  sexo\n",
       "13         cod_lesividad  ...         cod_lesividad\n",
       "14             lesividad  ...             lesividad\n",
       "15      coordenada_x_utm  ...      coordenada_x_utm\n",
       "16      coordenada_y_utm  ...      coordenada_y_utm\n",
       "17      positiva_alcohol  ...      positiva_alcohol\n",
       "18        positiva_droga  ...        positiva_droga\n",
       "19                   NaN  ...           Unnamed: 19\n",
       "20                   NaN  ...           Unnamed: 20\n",
       "\n",
       "[21 rows x 5 columns]"
      ]
     },
     "execution_count": 12,
     "metadata": {},
     "output_type": "execute_result"
    }
   ],
   "source": [
    "# Visualizar todas las variables\n",
    "import numpy as np\n",
    "\n",
    "# Lista de años\n",
    "años = [2019, 2020, 2021, 2022, 2023]\n",
    "\n",
    "# Crear un diccionario para almacenar los nombres de variables de cada año\n",
    "nombres_variables = {}\n",
    "\n",
    "# Obtener la ruta absoluta del directorio actual\n",
    "current_dir = os.getcwd()\n",
    "\n",
    "# Iterar sobre los años\n",
    "for año in años:\n",
    "    # Construir la ruta del archivo CSV\n",
    "    ruta_csv = os.path.join(current_dir, mis_datos, f\"{año}_Accidentalidad.csv\")\n",
    "    \n",
    "    # Leer el archivo CSV para el año actual\n",
    "    df = pd.read_csv(ruta_csv, delimiter=\";\")\n",
    "    \n",
    "    # Obtener los nombres de las variables\n",
    "    variables = df.columns.tolist()\n",
    "    \n",
    "    # Agregar los nombres de variables al diccionario\n",
    "    nombres_variables[año] = variables\n",
    "\n",
    "# Obtener la longitud máxima de nombres de variables\n",
    "longitud_maxima = max(len(nombres) for nombres in nombres_variables.values())\n",
    "\n",
    "# Rellenar las listas de nombres de variables con valores nulos para igualar la longitud\n",
    "for año, nombres in nombres_variables.items():\n",
    "    diferencia = longitud_maxima - len(nombres)\n",
    "    nombres += [np.nan] * diferencia\n",
    "\n",
    "# Crear el DataFrame nombres_variables_df usando pd.DataFrame()\n",
    "nombres_variables_df = pd.DataFrame(nombres_variables)\n",
    "\n",
    "# Imprimir el DataFrame con los nombres de las variables\n",
    "nombres_variables_df\n"
   ]
  },
  {
   "cell_type": "code",
   "execution_count": 13,
   "id": "e0924e19",
   "metadata": {
    "hidden": true,
    "scrolled": false
   },
   "outputs": [
    {
     "name": "stdout",
     "output_type": "stream",
     "text": [
      "Filas: 189297\n",
      "Variables: 19\n"
     ]
    },
    {
     "data": {
      "text/html": [
       "<div>\n",
       "<style scoped>\n",
       "    .dataframe tbody tr th:only-of-type {\n",
       "        vertical-align: middle;\n",
       "    }\n",
       "\n",
       "    .dataframe tbody tr th {\n",
       "        vertical-align: top;\n",
       "    }\n",
       "\n",
       "    .dataframe thead th {\n",
       "        text-align: right;\n",
       "    }\n",
       "</style>\n",
       "<table border=\"1\" class=\"dataframe\">\n",
       "  <thead>\n",
       "    <tr style=\"text-align: right;\">\n",
       "      <th></th>\n",
       "      <th>num_expediente</th>\n",
       "      <th>fecha</th>\n",
       "      <th>hora</th>\n",
       "      <th>localizacion</th>\n",
       "      <th>numero</th>\n",
       "      <th>cod_distrito</th>\n",
       "      <th>distrito</th>\n",
       "      <th>tipo_accidente</th>\n",
       "      <th>estado_meteorológico</th>\n",
       "      <th>tipo_vehiculo</th>\n",
       "      <th>tipo_persona</th>\n",
       "      <th>rango_edad</th>\n",
       "      <th>sexo</th>\n",
       "      <th>cod_lesividad</th>\n",
       "      <th>lesividad</th>\n",
       "      <th>coordenada_x_utm</th>\n",
       "      <th>coordenada_y_utm</th>\n",
       "      <th>positiva_alcohol</th>\n",
       "      <th>positiva_droga</th>\n",
       "    </tr>\n",
       "  </thead>\n",
       "  <tbody>\n",
       "    <tr>\n",
       "      <th>0</th>\n",
       "      <td>2018S017842</td>\n",
       "      <td>04/02/2019</td>\n",
       "      <td>9:10:00</td>\n",
       "      <td>CALL. ALBERTO AGUILERA, 1</td>\n",
       "      <td>1</td>\n",
       "      <td>1.0</td>\n",
       "      <td>CENTRO</td>\n",
       "      <td>Colisión lateral</td>\n",
       "      <td>Despejado</td>\n",
       "      <td>Motocicleta &gt; 125cc</td>\n",
       "      <td>Conductor</td>\n",
       "      <td>De 45 a 49 años</td>\n",
       "      <td>Hombre</td>\n",
       "      <td>7.0</td>\n",
       "      <td>Asistencia sanitaria sólo en el lugar del acci...</td>\n",
       "      <td>440068,049</td>\n",
       "      <td>4475679,17</td>\n",
       "      <td>N</td>\n",
       "      <td>NaN</td>\n",
       "    </tr>\n",
       "    <tr>\n",
       "      <th>1</th>\n",
       "      <td>2018S017842</td>\n",
       "      <td>04/02/2019</td>\n",
       "      <td>9:10:00</td>\n",
       "      <td>CALL. ALBERTO AGUILERA, 1</td>\n",
       "      <td>1</td>\n",
       "      <td>1.0</td>\n",
       "      <td>CENTRO</td>\n",
       "      <td>Colisión lateral</td>\n",
       "      <td>Despejado</td>\n",
       "      <td>Turismo</td>\n",
       "      <td>Conductor</td>\n",
       "      <td>De 30 a 34 años</td>\n",
       "      <td>Mujer</td>\n",
       "      <td>7.0</td>\n",
       "      <td>Asistencia sanitaria sólo en el lugar del acci...</td>\n",
       "      <td>440068,049</td>\n",
       "      <td>4475679,17</td>\n",
       "      <td>N</td>\n",
       "      <td>NaN</td>\n",
       "    </tr>\n",
       "    <tr>\n",
       "      <th>2</th>\n",
       "      <td>2019S000001</td>\n",
       "      <td>01/01/2019</td>\n",
       "      <td>3:45:00</td>\n",
       "      <td>PASEO. SANTA MARIA DE LA CABEZA / PLAZA. ELIPTICA</td>\n",
       "      <td>168</td>\n",
       "      <td>11.0</td>\n",
       "      <td>CARABANCHEL</td>\n",
       "      <td>Alcance</td>\n",
       "      <td>NaN</td>\n",
       "      <td>Furgoneta</td>\n",
       "      <td>Conductor</td>\n",
       "      <td>De 40 a 44 años</td>\n",
       "      <td>Hombre</td>\n",
       "      <td>NaN</td>\n",
       "      <td>NaN</td>\n",
       "      <td>439139,603</td>\n",
       "      <td>4470836,854</td>\n",
       "      <td>S</td>\n",
       "      <td>NaN</td>\n",
       "    </tr>\n",
       "  </tbody>\n",
       "</table>\n",
       "</div>"
      ],
      "text/plain": [
       "  num_expediente       fecha  ... positiva_alcohol positiva_droga\n",
       "0    2018S017842  04/02/2019  ...                N            NaN\n",
       "1    2018S017842  04/02/2019  ...                N            NaN\n",
       "2    2019S000001  01/01/2019  ...                S            NaN\n",
       "\n",
       "[3 rows x 19 columns]"
      ]
     },
     "execution_count": 13,
     "metadata": {},
     "output_type": "execute_result"
    }
   ],
   "source": [
    "# Lista de años\n",
    "años = [2019, 2020, 2021, 2022, 2023]\n",
    "\n",
    "# DataFrame para almacenar los datos seleccionados\n",
    "df_total = pd.DataFrame()\n",
    "\n",
    "# Obtener la ruta absoluta del directorio actual\n",
    "current_dir = os.getcwd()\n",
    "\n",
    "# Iterar sobre los años\n",
    "for año in años:\n",
    "    # Construir la ruta del archivo CSV\n",
    "    ruta_csv = os.path.join(current_dir, mis_datos, f\"{año}_Accidentalidad.csv\")\n",
    "    \n",
    "    # Leer el archivo CSV para el año actual\n",
    "    df = pd.read_csv(ruta_csv, delimiter=\";\")\n",
    "    \n",
    "    # Seleccionar las variables de índice 0 a 18\n",
    "    df_seleccionado_año = df.iloc[:, 0:19]\n",
    "    \n",
    "    # Agregar los datos seleccionados al DataFrame total\n",
    "    df_total = pd.concat([df_total, df_seleccionado_año], ignore_index=True)\n",
    "\n",
    "# Imprimir los primeros registros del DataFrame seleccionado\n",
    "print('Filas:', df_total.shape[0])\n",
    "print('Variables:', df_total.shape[1])\n",
    "df_total.head(3)"
   ]
  },
  {
   "attachments": {},
   "cell_type": "markdown",
   "id": "beec5ce6",
   "metadata": {
    "hidden": true
   },
   "source": [
    "### Info variables Numéricas y categóricas"
   ]
  },
  {
   "cell_type": "code",
   "execution_count": 14,
   "id": "d472ba59",
   "metadata": {
    "hidden": true
   },
   "outputs": [
    {
     "data": {
      "text/html": [
       "<div>\n",
       "<style scoped>\n",
       "    .dataframe tbody tr th:only-of-type {\n",
       "        vertical-align: middle;\n",
       "    }\n",
       "\n",
       "    .dataframe tbody tr th {\n",
       "        vertical-align: top;\n",
       "    }\n",
       "\n",
       "    .dataframe thead th {\n",
       "        text-align: right;\n",
       "    }\n",
       "</style>\n",
       "<table border=\"1\" class=\"dataframe\">\n",
       "  <thead>\n",
       "    <tr style=\"text-align: right;\">\n",
       "      <th></th>\n",
       "      <th>cod_distrito</th>\n",
       "      <th>cod_lesividad</th>\n",
       "      <th>positiva_droga</th>\n",
       "    </tr>\n",
       "  </thead>\n",
       "  <tbody>\n",
       "    <tr>\n",
       "      <th>count</th>\n",
       "      <td>189291.000000</td>\n",
       "      <td>103840.000000</td>\n",
       "      <td>542.0</td>\n",
       "    </tr>\n",
       "    <tr>\n",
       "      <th>mean</th>\n",
       "      <td>9.895151</td>\n",
       "      <td>9.985622</td>\n",
       "      <td>1.0</td>\n",
       "    </tr>\n",
       "    <tr>\n",
       "      <th>std</th>\n",
       "      <td>5.639678</td>\n",
       "      <td>4.733800</td>\n",
       "      <td>0.0</td>\n",
       "    </tr>\n",
       "    <tr>\n",
       "      <th>min</th>\n",
       "      <td>1.000000</td>\n",
       "      <td>1.000000</td>\n",
       "      <td>1.0</td>\n",
       "    </tr>\n",
       "    <tr>\n",
       "      <th>25%</th>\n",
       "      <td>5.000000</td>\n",
       "      <td>7.000000</td>\n",
       "      <td>1.0</td>\n",
       "    </tr>\n",
       "    <tr>\n",
       "      <th>50%</th>\n",
       "      <td>10.000000</td>\n",
       "      <td>14.000000</td>\n",
       "      <td>1.0</td>\n",
       "    </tr>\n",
       "    <tr>\n",
       "      <th>75%</th>\n",
       "      <td>14.000000</td>\n",
       "      <td>14.000000</td>\n",
       "      <td>1.0</td>\n",
       "    </tr>\n",
       "    <tr>\n",
       "      <th>max</th>\n",
       "      <td>21.000000</td>\n",
       "      <td>77.000000</td>\n",
       "      <td>1.0</td>\n",
       "    </tr>\n",
       "  </tbody>\n",
       "</table>\n",
       "</div>"
      ],
      "text/plain": [
       "        cod_distrito  cod_lesividad  positiva_droga\n",
       "count  189291.000000  103840.000000           542.0\n",
       "mean        9.895151       9.985622             1.0\n",
       "std         5.639678       4.733800             0.0\n",
       "min         1.000000       1.000000             1.0\n",
       "25%         5.000000       7.000000             1.0\n",
       "50%        10.000000      14.000000             1.0\n",
       "75%        14.000000      14.000000             1.0\n",
       "max        21.000000      77.000000             1.0"
      ]
     },
     "execution_count": 14,
     "metadata": {},
     "output_type": "execute_result"
    }
   ],
   "source": [
    "# como se distribuyen las variables numéricas\n",
    "df_total.describe()"
   ]
  },
  {
   "cell_type": "code",
   "execution_count": 15,
   "id": "df1bcd74",
   "metadata": {
    "hidden": true
   },
   "outputs": [
    {
     "data": {
      "text/html": [
       "<div>\n",
       "<style scoped>\n",
       "    .dataframe tbody tr th:only-of-type {\n",
       "        vertical-align: middle;\n",
       "    }\n",
       "\n",
       "    .dataframe tbody tr th {\n",
       "        vertical-align: top;\n",
       "    }\n",
       "\n",
       "    .dataframe thead th {\n",
       "        text-align: right;\n",
       "    }\n",
       "</style>\n",
       "<table border=\"1\" class=\"dataframe\">\n",
       "  <thead>\n",
       "    <tr style=\"text-align: right;\">\n",
       "      <th></th>\n",
       "      <th>num_expediente</th>\n",
       "      <th>fecha</th>\n",
       "      <th>hora</th>\n",
       "      <th>localizacion</th>\n",
       "      <th>numero</th>\n",
       "      <th>distrito</th>\n",
       "      <th>tipo_accidente</th>\n",
       "      <th>estado_meteorológico</th>\n",
       "      <th>tipo_vehiculo</th>\n",
       "      <th>tipo_persona</th>\n",
       "      <th>rango_edad</th>\n",
       "      <th>sexo</th>\n",
       "      <th>lesividad</th>\n",
       "      <th>coordenada_x_utm</th>\n",
       "      <th>coordenada_y_utm</th>\n",
       "      <th>positiva_alcohol</th>\n",
       "    </tr>\n",
       "  </thead>\n",
       "  <tbody>\n",
       "    <tr>\n",
       "      <th>count</th>\n",
       "      <td>189297</td>\n",
       "      <td>189297</td>\n",
       "      <td>189297</td>\n",
       "      <td>189297</td>\n",
       "      <td>189291</td>\n",
       "      <td>189291</td>\n",
       "      <td>189293</td>\n",
       "      <td>169395</td>\n",
       "      <td>188600</td>\n",
       "      <td>189294</td>\n",
       "      <td>189297</td>\n",
       "      <td>189297</td>\n",
       "      <td>103840</td>\n",
       "      <td>189290</td>\n",
       "      <td>189290</td>\n",
       "      <td>188627</td>\n",
       "    </tr>\n",
       "    <tr>\n",
       "      <th>unique</th>\n",
       "      <td>81132</td>\n",
       "      <td>1581</td>\n",
       "      <td>1411</td>\n",
       "      <td>44935</td>\n",
       "      <td>1661</td>\n",
       "      <td>21</td>\n",
       "      <td>13</td>\n",
       "      <td>7</td>\n",
       "      <td>40</td>\n",
       "      <td>3</td>\n",
       "      <td>18</td>\n",
       "      <td>3</td>\n",
       "      <td>9</td>\n",
       "      <td>71342</td>\n",
       "      <td>76737</td>\n",
       "      <td>2</td>\n",
       "    </tr>\n",
       "    <tr>\n",
       "      <th>top</th>\n",
       "      <td>2022S002867</td>\n",
       "      <td>05/04/2019</td>\n",
       "      <td>18:00:00</td>\n",
       "      <td>AUTOV. M-30, +01100I</td>\n",
       "      <td>1</td>\n",
       "      <td>PUENTE DE VALLECAS</td>\n",
       "      <td>Colisión fronto-lateral</td>\n",
       "      <td>Despejado</td>\n",
       "      <td>Turismo</td>\n",
       "      <td>Conductor</td>\n",
       "      <td>Desconocido</td>\n",
       "      <td>Hombre</td>\n",
       "      <td>Sin asistencia sanitaria</td>\n",
       "      <td>438909,004</td>\n",
       "      <td>4476421,943</td>\n",
       "      <td>N</td>\n",
       "    </tr>\n",
       "    <tr>\n",
       "      <th>freq</th>\n",
       "      <td>36</td>\n",
       "      <td>272</td>\n",
       "      <td>1691</td>\n",
       "      <td>378</td>\n",
       "      <td>18214</td>\n",
       "      <td>14955</td>\n",
       "      <td>47282</td>\n",
       "      <td>143488</td>\n",
       "      <td>131256</td>\n",
       "      <td>153155</td>\n",
       "      <td>20842</td>\n",
       "      <td>114516</td>\n",
       "      <td>56799</td>\n",
       "      <td>36</td>\n",
       "      <td>36</td>\n",
       "      <td>183127</td>\n",
       "    </tr>\n",
       "  </tbody>\n",
       "</table>\n",
       "</div>"
      ],
      "text/plain": [
       "       num_expediente       fecha  ... coordenada_y_utm positiva_alcohol\n",
       "count          189297      189297  ...           189290           188627\n",
       "unique          81132        1581  ...            76737                2\n",
       "top       2022S002867  05/04/2019  ...      4476421,943                N\n",
       "freq               36         272  ...               36           183127\n",
       "\n",
       "[4 rows x 16 columns]"
      ]
     },
     "execution_count": 15,
     "metadata": {},
     "output_type": "execute_result"
    }
   ],
   "source": [
    "# como se comportan las variables categóricas\n",
    "df_total.describe(include=['O'])"
   ]
  },
  {
   "attachments": {},
   "cell_type": "markdown",
   "id": "bde27923",
   "metadata": {
    "hidden": true
   },
   "source": [
    "### Valores nulos"
   ]
  },
  {
   "cell_type": "code",
   "execution_count": 16,
   "id": "269f10b3",
   "metadata": {
    "hidden": true
   },
   "outputs": [
    {
     "data": {
      "text/plain": [
       "num_expediente               0\n",
       "fecha                        0\n",
       "hora                         0\n",
       "localizacion                 0\n",
       "numero                       6\n",
       "cod_distrito                 6\n",
       "distrito                     6\n",
       "tipo_accidente               4\n",
       "estado_meteorológico     19902\n",
       "tipo_vehiculo              697\n",
       "tipo_persona                 3\n",
       "rango_edad                   0\n",
       "sexo                         0\n",
       "cod_lesividad            85457\n",
       "lesividad                85457\n",
       "coordenada_x_utm             7\n",
       "coordenada_y_utm             7\n",
       "positiva_alcohol           670\n",
       "positiva_droga          188755\n",
       "dtype: int64"
      ]
     },
     "execution_count": 16,
     "metadata": {},
     "output_type": "execute_result"
    }
   ],
   "source": [
    "#Verificar valores nulos\n",
    "df_total.isnull().sum()"
   ]
  },
  {
   "cell_type": "code",
   "execution_count": 17,
   "id": "5a38672f",
   "metadata": {
    "hidden": true
   },
   "outputs": [],
   "source": [
    "# Eliminamos nulos de las coordenadas\n",
    "df_total.dropna(subset=['coordenada_x_utm', 'coordenada_y_utm'], inplace=True)\n",
    "\n",
    "# Rellenamos las celdas vacillas con 0\n",
    "df_total.fillna(0, inplace=True)"
   ]
  },
  {
   "cell_type": "code",
   "execution_count": 18,
   "id": "49b03f40",
   "metadata": {
    "hidden": true
   },
   "outputs": [
    {
     "data": {
      "text/plain": [
       "num_expediente          0\n",
       "fecha                   0\n",
       "hora                    0\n",
       "localizacion            0\n",
       "numero                  0\n",
       "cod_distrito            0\n",
       "distrito                0\n",
       "tipo_accidente          0\n",
       "estado_meteorológico    0\n",
       "tipo_vehiculo           0\n",
       "tipo_persona            0\n",
       "rango_edad              0\n",
       "sexo                    0\n",
       "cod_lesividad           0\n",
       "lesividad               0\n",
       "coordenada_x_utm        0\n",
       "coordenada_y_utm        0\n",
       "positiva_alcohol        0\n",
       "positiva_droga          0\n",
       "dtype: int64"
      ]
     },
     "execution_count": 18,
     "metadata": {},
     "output_type": "execute_result"
    }
   ],
   "source": [
    "#Verificar valores nulos\n",
    "df_total.isnull().sum()"
   ]
  },
  {
   "attachments": {},
   "cell_type": "markdown",
   "id": "73782817",
   "metadata": {
    "hidden": true
   },
   "source": [
    "### Formato de la variables"
   ]
  },
  {
   "cell_type": "code",
   "execution_count": 19,
   "id": "9809dd82",
   "metadata": {
    "hidden": true
   },
   "outputs": [
    {
     "name": "stdout",
     "output_type": "stream",
     "text": [
      "<class 'pandas.core.frame.DataFrame'>\n",
      "Int64Index: 189290 entries, 0 to 189296\n",
      "Data columns (total 19 columns):\n",
      " #   Column                Non-Null Count   Dtype  \n",
      "---  ------                --------------   -----  \n",
      " 0   num_expediente        189290 non-null  object \n",
      " 1   fecha                 189290 non-null  object \n",
      " 2   hora                  189290 non-null  object \n",
      " 3   localizacion          189290 non-null  object \n",
      " 4   numero                189290 non-null  object \n",
      " 5   cod_distrito          189290 non-null  float64\n",
      " 6   distrito              189290 non-null  object \n",
      " 7   tipo_accidente        189290 non-null  object \n",
      " 8   estado_meteorológico  189290 non-null  object \n",
      " 9   tipo_vehiculo         189290 non-null  object \n",
      " 10  tipo_persona          189290 non-null  object \n",
      " 11  rango_edad            189290 non-null  object \n",
      " 12  sexo                  189290 non-null  object \n",
      " 13  cod_lesividad         189290 non-null  float64\n",
      " 14  lesividad             189290 non-null  object \n",
      " 15  coordenada_x_utm      189290 non-null  object \n",
      " 16  coordenada_y_utm      189290 non-null  object \n",
      " 17  positiva_alcohol      189290 non-null  object \n",
      " 18  positiva_droga        189290 non-null  float64\n",
      "dtypes: float64(3), object(16)\n",
      "memory usage: 28.9+ MB\n"
     ]
    }
   ],
   "source": [
    "df_total.info()"
   ]
  },
  {
   "cell_type": "code",
   "execution_count": 20,
   "id": "5981765d",
   "metadata": {
    "hidden": true
   },
   "outputs": [],
   "source": [
    "# Cambiar formato de la variable \"fecha\" a fecha\n",
    "df_total['fecha'] = pd.to_datetime(df_total['fecha'], format='%d/%m/%Y')\n",
    "#df_total['hora'] = pd.to_datetime(df_total['hora'], format='%H:%M:%S', errors='coerce').dt.time\n",
    "df_total['hora'] = pd.to_datetime(df_total['hora'])\n",
    "\n",
    "# Cambiar formato de las variables \"coordenada_x_utm\" y \"coordenada_y_utm\" a float\n",
    "df_total['coordenada_x_utm'] = pd.to_numeric(df_total['coordenada_x_utm'].str.replace(',', '.'), errors='coerce')\n",
    "df_total['coordenada_y_utm'] = pd.to_numeric(df_total['coordenada_y_utm'].str.replace(',', '.'), errors='coerce')\n",
    "df_total['coordenada_x_utm'] = df_total['coordenada_x_utm'].astype(float)\n",
    "df_total['coordenada_y_utm'] = df_total['coordenada_y_utm'].astype(float)\n",
    "\n",
    "# Cambiar formato de la variable \"cod_lesividad\" a nuemeric\n",
    "df_total['cod_lesividad'] = pd.to_numeric(df_total['cod_lesividad'], errors='coerce')\n",
    "\n"
   ]
  },
  {
   "cell_type": "code",
   "execution_count": 21,
   "id": "c4ee6f83",
   "metadata": {
    "hidden": true
   },
   "outputs": [
    {
     "name": "stdout",
     "output_type": "stream",
     "text": [
      "<class 'pandas.core.frame.DataFrame'>\n",
      "Int64Index: 189290 entries, 0 to 189296\n",
      "Data columns (total 19 columns):\n",
      " #   Column                Non-Null Count   Dtype         \n",
      "---  ------                --------------   -----         \n",
      " 0   num_expediente        189290 non-null  object        \n",
      " 1   fecha                 189290 non-null  datetime64[ns]\n",
      " 2   hora                  189290 non-null  datetime64[ns]\n",
      " 3   localizacion          189290 non-null  object        \n",
      " 4   numero                189290 non-null  object        \n",
      " 5   cod_distrito          189290 non-null  float64       \n",
      " 6   distrito              189290 non-null  object        \n",
      " 7   tipo_accidente        189290 non-null  object        \n",
      " 8   estado_meteorológico  189290 non-null  object        \n",
      " 9   tipo_vehiculo         189290 non-null  object        \n",
      " 10  tipo_persona          189290 non-null  object        \n",
      " 11  rango_edad            189290 non-null  object        \n",
      " 12  sexo                  189290 non-null  object        \n",
      " 13  cod_lesividad         189290 non-null  float64       \n",
      " 14  lesividad             189290 non-null  object        \n",
      " 15  coordenada_x_utm      189260 non-null  float64       \n",
      " 16  coordenada_y_utm      189260 non-null  float64       \n",
      " 17  positiva_alcohol      189290 non-null  object        \n",
      " 18  positiva_droga        189290 non-null  float64       \n",
      "dtypes: datetime64[ns](2), float64(5), object(12)\n",
      "memory usage: 28.9+ MB\n"
     ]
    }
   ],
   "source": [
    "ruta_csv = os.path.join(current_dir, mis_datos, 'df_total.csv')\n",
    "df_total.to_csv(ruta_csv, sep=';', index=False, encoding='latin1', decimal='.')\n",
    "df_total.info()"
   ]
  },
  {
   "attachments": {},
   "cell_type": "markdown",
   "id": "162664d9",
   "metadata": {
    "hidden": true
   },
   "source": [
    "### Eliminar Duplicados - Datos por número de expendiente"
   ]
  },
  {
   "cell_type": "code",
   "execution_count": 22,
   "id": "37519636",
   "metadata": {
    "hidden": true
   },
   "outputs": [
    {
     "data": {
      "text/html": [
       "<div>\n",
       "<style scoped>\n",
       "    .dataframe tbody tr th:only-of-type {\n",
       "        vertical-align: middle;\n",
       "    }\n",
       "\n",
       "    .dataframe tbody tr th {\n",
       "        vertical-align: top;\n",
       "    }\n",
       "\n",
       "    .dataframe thead th {\n",
       "        text-align: right;\n",
       "    }\n",
       "</style>\n",
       "<table border=\"1\" class=\"dataframe\">\n",
       "  <thead>\n",
       "    <tr style=\"text-align: right;\">\n",
       "      <th></th>\n",
       "      <th>num_expediente</th>\n",
       "      <th>fecha</th>\n",
       "      <th>hora</th>\n",
       "      <th>localizacion</th>\n",
       "      <th>numero</th>\n",
       "      <th>cod_distrito</th>\n",
       "      <th>distrito</th>\n",
       "      <th>tipo_accidente</th>\n",
       "      <th>estado_meteorológico</th>\n",
       "      <th>tipo_vehiculo</th>\n",
       "      <th>tipo_persona</th>\n",
       "      <th>rango_edad</th>\n",
       "      <th>sexo</th>\n",
       "      <th>cod_lesividad</th>\n",
       "      <th>lesividad</th>\n",
       "      <th>coordenada_x_utm</th>\n",
       "      <th>coordenada_y_utm</th>\n",
       "      <th>positiva_alcohol</th>\n",
       "      <th>positiva_droga</th>\n",
       "    </tr>\n",
       "  </thead>\n",
       "  <tbody>\n",
       "    <tr>\n",
       "      <th>0</th>\n",
       "      <td>2018S017842</td>\n",
       "      <td>2019-02-04</td>\n",
       "      <td>2023-06-19 09:10:00</td>\n",
       "      <td>CALL. ALBERTO AGUILERA, 1</td>\n",
       "      <td>1</td>\n",
       "      <td>1.0</td>\n",
       "      <td>CENTRO</td>\n",
       "      <td>Colisión lateral</td>\n",
       "      <td>Despejado</td>\n",
       "      <td>Motocicleta &gt; 125cc</td>\n",
       "      <td>Conductor</td>\n",
       "      <td>De 45 a 49 años</td>\n",
       "      <td>Hombre</td>\n",
       "      <td>7.0</td>\n",
       "      <td>Asistencia sanitaria sólo en el lugar del acci...</td>\n",
       "      <td>440068.049</td>\n",
       "      <td>4475679.170</td>\n",
       "      <td>N</td>\n",
       "      <td>0.0</td>\n",
       "    </tr>\n",
       "    <tr>\n",
       "      <th>2</th>\n",
       "      <td>2019S000001</td>\n",
       "      <td>2019-01-01</td>\n",
       "      <td>2023-06-19 03:45:00</td>\n",
       "      <td>PASEO. SANTA MARIA DE LA CABEZA / PLAZA. ELIPTICA</td>\n",
       "      <td>168</td>\n",
       "      <td>11.0</td>\n",
       "      <td>CARABANCHEL</td>\n",
       "      <td>Alcance</td>\n",
       "      <td>0</td>\n",
       "      <td>Furgoneta</td>\n",
       "      <td>Conductor</td>\n",
       "      <td>De 40 a 44 años</td>\n",
       "      <td>Hombre</td>\n",
       "      <td>0.0</td>\n",
       "      <td>0</td>\n",
       "      <td>439139.603</td>\n",
       "      <td>4470836.854</td>\n",
       "      <td>S</td>\n",
       "      <td>0.0</td>\n",
       "    </tr>\n",
       "    <tr>\n",
       "      <th>8</th>\n",
       "      <td>2019S000002</td>\n",
       "      <td>2019-01-01</td>\n",
       "      <td>2023-06-19 03:50:00</td>\n",
       "      <td>CALL. CUART DE POBLET, 65</td>\n",
       "      <td>65</td>\n",
       "      <td>10.0</td>\n",
       "      <td>LATINA</td>\n",
       "      <td>Choque contra obstáculo fijo</td>\n",
       "      <td>Despejado</td>\n",
       "      <td>Furgoneta</td>\n",
       "      <td>Conductor</td>\n",
       "      <td>Desconocido</td>\n",
       "      <td>Desconocido</td>\n",
       "      <td>0.0</td>\n",
       "      <td>0</td>\n",
       "      <td>436473.789</td>\n",
       "      <td>4472030.489</td>\n",
       "      <td>N</td>\n",
       "      <td>0.0</td>\n",
       "    </tr>\n",
       "    <tr>\n",
       "      <th>12</th>\n",
       "      <td>2019S000003</td>\n",
       "      <td>2019-01-01</td>\n",
       "      <td>2023-06-19 04:00:00</td>\n",
       "      <td>CALL. MARCELO USERA, 30</td>\n",
       "      <td>30</td>\n",
       "      <td>12.0</td>\n",
       "      <td>USERA</td>\n",
       "      <td>Colisión fronto-lateral</td>\n",
       "      <td>Despejado</td>\n",
       "      <td>Turismo</td>\n",
       "      <td>Conductor</td>\n",
       "      <td>De 30 a 34 años</td>\n",
       "      <td>Hombre</td>\n",
       "      <td>0.0</td>\n",
       "      <td>0</td>\n",
       "      <td>440462.407</td>\n",
       "      <td>4470926.552</td>\n",
       "      <td>S</td>\n",
       "      <td>0.0</td>\n",
       "    </tr>\n",
       "    <tr>\n",
       "      <th>16</th>\n",
       "      <td>2019S000004</td>\n",
       "      <td>2019-01-01</td>\n",
       "      <td>2023-06-19 04:00:00</td>\n",
       "      <td>CALL. ISLA DE OZA, 15</td>\n",
       "      <td>15</td>\n",
       "      <td>9.0</td>\n",
       "      <td>MONCLOA-ARAVACA</td>\n",
       "      <td>Choque contra obstáculo fijo</td>\n",
       "      <td>Despejado</td>\n",
       "      <td>Turismo</td>\n",
       "      <td>Conductor</td>\n",
       "      <td>De 60 a 64 años</td>\n",
       "      <td>Hombre</td>\n",
       "      <td>0.0</td>\n",
       "      <td>0</td>\n",
       "      <td>438274.088</td>\n",
       "      <td>4479629.873</td>\n",
       "      <td>N</td>\n",
       "      <td>0.0</td>\n",
       "    </tr>\n",
       "    <tr>\n",
       "      <th>...</th>\n",
       "      <td>...</td>\n",
       "      <td>...</td>\n",
       "      <td>...</td>\n",
       "      <td>...</td>\n",
       "      <td>...</td>\n",
       "      <td>...</td>\n",
       "      <td>...</td>\n",
       "      <td>...</td>\n",
       "      <td>...</td>\n",
       "      <td>...</td>\n",
       "      <td>...</td>\n",
       "      <td>...</td>\n",
       "      <td>...</td>\n",
       "      <td>...</td>\n",
       "      <td>...</td>\n",
       "      <td>...</td>\n",
       "      <td>...</td>\n",
       "      <td>...</td>\n",
       "      <td>...</td>\n",
       "    </tr>\n",
       "    <tr>\n",
       "      <th>189281</th>\n",
       "      <td>2023S017960</td>\n",
       "      <td>2023-04-30</td>\n",
       "      <td>2023-06-19 22:30:00</td>\n",
       "      <td>AVDA. ENSANCHE DE VALLECAS, 44</td>\n",
       "      <td>44</td>\n",
       "      <td>18.0</td>\n",
       "      <td>VILLA DE VALLECAS</td>\n",
       "      <td>Colisión fronto-lateral</td>\n",
       "      <td>Despejado</td>\n",
       "      <td>Motocicleta hasta 125cc</td>\n",
       "      <td>Conductor</td>\n",
       "      <td>De 30 a 34 años</td>\n",
       "      <td>Hombre</td>\n",
       "      <td>2.0</td>\n",
       "      <td>Ingreso inferior o igual a 24 horas</td>\n",
       "      <td>448488.631</td>\n",
       "      <td>4468674.221</td>\n",
       "      <td>N</td>\n",
       "      <td>0.0</td>\n",
       "    </tr>\n",
       "    <tr>\n",
       "      <th>189284</th>\n",
       "      <td>2023S017978</td>\n",
       "      <td>2023-04-30</td>\n",
       "      <td>2023-06-19 05:10:00</td>\n",
       "      <td>CALLE LOPEZ DE HOLLOS CON CALLE PPE VERGARA</td>\n",
       "      <td>120</td>\n",
       "      <td>5.0</td>\n",
       "      <td>CHAMARTÍN</td>\n",
       "      <td>Colisión fronto-lateral</td>\n",
       "      <td>Despejado</td>\n",
       "      <td>Turismo</td>\n",
       "      <td>Conductor</td>\n",
       "      <td>De 45 a 49 años</td>\n",
       "      <td>Hombre</td>\n",
       "      <td>0.0</td>\n",
       "      <td>0</td>\n",
       "      <td>442433.751</td>\n",
       "      <td>4476960.554</td>\n",
       "      <td>N</td>\n",
       "      <td>0.0</td>\n",
       "    </tr>\n",
       "    <tr>\n",
       "      <th>189289</th>\n",
       "      <td>2023S018017</td>\n",
       "      <td>2023-04-28</td>\n",
       "      <td>2023-06-19 19:36:00</td>\n",
       "      <td>CALL. MONTANA / CALL. ADORA</td>\n",
       "      <td>2</td>\n",
       "      <td>12.0</td>\n",
       "      <td>USERA</td>\n",
       "      <td>Colisión lateral</td>\n",
       "      <td>Nublado</td>\n",
       "      <td>Turismo</td>\n",
       "      <td>Conductor</td>\n",
       "      <td>De 21 a 24 años</td>\n",
       "      <td>Hombre</td>\n",
       "      <td>0.0</td>\n",
       "      <td>0</td>\n",
       "      <td>441667.701</td>\n",
       "      <td>4468990.513</td>\n",
       "      <td>N</td>\n",
       "      <td>0.0</td>\n",
       "    </tr>\n",
       "    <tr>\n",
       "      <th>189291</th>\n",
       "      <td>2023S018331</td>\n",
       "      <td>2023-04-23</td>\n",
       "      <td>2023-06-19 14:00:00</td>\n",
       "      <td>PLAZA. INDEPENDENCIA, 1</td>\n",
       "      <td>1</td>\n",
       "      <td>4.0</td>\n",
       "      <td>SALAMANCA</td>\n",
       "      <td>Otro</td>\n",
       "      <td>Despejado</td>\n",
       "      <td>Ciclomotor</td>\n",
       "      <td>Conductor</td>\n",
       "      <td>De 30 a 34 años</td>\n",
       "      <td>Hombre</td>\n",
       "      <td>0.0</td>\n",
       "      <td>0</td>\n",
       "      <td>441512.687</td>\n",
       "      <td>4474614.835</td>\n",
       "      <td>N</td>\n",
       "      <td>0.0</td>\n",
       "    </tr>\n",
       "    <tr>\n",
       "      <th>189294</th>\n",
       "      <td>2023S018455</td>\n",
       "      <td>2023-04-18</td>\n",
       "      <td>2023-06-19 12:30:00</td>\n",
       "      <td>PASEO. CASTELLANOS, 45</td>\n",
       "      <td>45</td>\n",
       "      <td>11.0</td>\n",
       "      <td>CARABANCHEL</td>\n",
       "      <td>Alcance</td>\n",
       "      <td>Despejado</td>\n",
       "      <td>Todo terreno</td>\n",
       "      <td>Conductor</td>\n",
       "      <td>De 55 a 59 años</td>\n",
       "      <td>Hombre</td>\n",
       "      <td>0.0</td>\n",
       "      <td>0</td>\n",
       "      <td>436777.181</td>\n",
       "      <td>4469693.185</td>\n",
       "      <td>N</td>\n",
       "      <td>0.0</td>\n",
       "    </tr>\n",
       "  </tbody>\n",
       "</table>\n",
       "<p>81129 rows × 19 columns</p>\n",
       "</div>"
      ],
      "text/plain": [
       "       num_expediente      fecha  ... positiva_alcohol positiva_droga\n",
       "0         2018S017842 2019-02-04  ...                N            0.0\n",
       "2         2019S000001 2019-01-01  ...                S            0.0\n",
       "8         2019S000002 2019-01-01  ...                N            0.0\n",
       "12        2019S000003 2019-01-01  ...                S            0.0\n",
       "16        2019S000004 2019-01-01  ...                N            0.0\n",
       "...               ...        ...  ...              ...            ...\n",
       "189281    2023S017960 2023-04-30  ...                N            0.0\n",
       "189284    2023S017978 2023-04-30  ...                N            0.0\n",
       "189289    2023S018017 2023-04-28  ...                N            0.0\n",
       "189291    2023S018331 2023-04-23  ...                N            0.0\n",
       "189294    2023S018455 2023-04-18  ...                N            0.0\n",
       "\n",
       "[81129 rows x 19 columns]"
      ]
     },
     "execution_count": 22,
     "metadata": {},
     "output_type": "execute_result"
    }
   ],
   "source": [
    "# Eliminar registros duplicados en la columna \"num_expediente\"\n",
    "df_total_unicos = df_total.drop_duplicates(subset='num_expediente', keep='first')\n",
    "\n",
    "# Guardar datos \n",
    "ruta_csv = os.path.join(current_dir, mis_datos, 'df_total_unicos.csv')\n",
    "df_total_unicos.to_csv(ruta_csv, sep=';', index=False, encoding='latin1', decimal='.')\n",
    "# Mostrar el DataFrame resultante\n",
    "df_total_unicos\n"
   ]
  },
  {
   "attachments": {},
   "cell_type": "markdown",
   "id": "7ad8ad87",
   "metadata": {},
   "source": [
    "# Visualización y Exploración de los datos"
   ]
  },
  {
   "attachments": {},
   "cell_type": "markdown",
   "id": "c6507989",
   "metadata": {},
   "source": [
    "<div style=\"display: flex; justify-content: center; align-items: center;\">\n",
    "    <img src=\"./assets/data_visualisation.png\" alt=\"drawing\" width=\"200\" style=\"margin-right: 10px;\">\n",
    "    <img src=\"./assets/Explore_data.png\" alt=\"drawing\" width=\"200\" style=\"margin-left: 10px;\">\n",
    "</div>\n"
   ]
  },
  {
   "attachments": {},
   "cell_type": "markdown",
   "id": "bd097cb8",
   "metadata": {},
   "source": [
    "## Granuralidad temporal (Gráfico)"
   ]
  },
  {
   "attachments": {},
   "cell_type": "markdown",
   "id": "91b3a932",
   "metadata": {},
   "source": [
    "### Distribución de los accidente a lo largo del tiempo"
   ]
  },
  {
   "cell_type": "code",
   "execution_count": 23,
   "id": "09f33f43",
   "metadata": {},
   "outputs": [
    {
     "data": {
      "image/png": "[encoded data removed]",
      "text/plain": [
       "<Figure size 1200x400 with 1 Axes>"
      ]
     },
     "metadata": {},
     "output_type": "display_data"
    }
   ],
   "source": [
    "import matplotlib.pyplot as plt\n",
    "\n",
    "\n",
    "# Configuración para mostrar el gráfico en el notebook\n",
    "%matplotlib inline\n",
    "\n",
    "# Crear el gráfico tipo histograma\n",
    "plt.figure(figsize=(12, 4))  # Ajustar el ancho del gráfico\n",
    "plt.hist(df_total_unicos['fecha'], bins=50, color='#35b6ff', rwidth=0.85)\n",
    "plt.suptitle('Dinámica temporal de accidentes en Madrid', y=1, fontsize=18)\n",
    "plt.title('Fecha del 01-01-2019 al 30-04-2023', fontsize=10)\n",
    "plt.xlabel('Fecha')\n",
    "plt.ylabel('Accidentes')\n",
    "\n",
    "plt.show()\n"
   ]
  },
  {
   "attachments": {},
   "cell_type": "markdown",
   "id": "e82b11ca",
   "metadata": {
    "heading_collapsed": true
   },
   "source": [
    "### Tuning del gráfico"
   ]
  },
  {
   "cell_type": "code",
   "execution_count": 24,
   "id": "c6b3f5c2",
   "metadata": {
    "hidden": true
   },
   "outputs": [
    {
     "data": {
      "image/png": "[encoded data removed]",
      "text/plain": [
       "<Figure size 1200x400 with 1 Axes>"
      ]
     },
     "metadata": {},
     "output_type": "display_data"
    }
   ],
   "source": [
    "import matplotlib.pyplot as plt\n",
    "import matplotlib.dates as mdates\n",
    "import matplotlib.patches as patches\n",
    "\n",
    "def configurar_grafico():\n",
    "    # Estilo gráfico\n",
    "    plt.xticks(rotation=30, ha='right')  # Rotar y alinear las etiquetas del eje x para mejorar legibilidad\n",
    "    plt.tight_layout()  # Ajustar el espacio entre los elementos del gráfico\n",
    "    \n",
    "    # Añadir líneas finas horizontales\n",
    "    plt.grid(axis='y', color='gray', linestyle=':', linewidth=0.5)\n",
    "    \n",
    "    # Configurar los ejes de fecha\n",
    "    ax = plt.gca()  # Obtener los ejes actuales\n",
    "    ax.xaxis.set_major_locator(mdates.MonthLocator(bymonth=(1, 7)))  # Establecer localizador de los principales ticks de mes\n",
    "    ax.xaxis.set_minor_locator(mdates.MonthLocator())  # Establecer localizador de los ticks menores de mes\n",
    "    ax.xaxis.set_major_formatter(mdates.ConciseDateFormatter(ax.xaxis.get_major_locator()))  # Establecer formato conciso para los principales ticks de fecha\n",
    "    \n",
    "    # Quitar el marco\n",
    "    ax.spines['top'].set_visible(False)\n",
    "    ax.spines['right'].set_visible(False)\n",
    "    ax.spines['left'].set_visible(False)\n",
    "    ax.spines['bottom'].set_visible(False)\n",
    "\n",
    "\n",
    "plt.figure(figsize=(12, 4))  # Ajustar el ancho del gráfico\n",
    "plt.hist(df_total_unicos['fecha'], bins=50, color='#35b6ff', rwidth=0.85)\n",
    "plt.suptitle('Dinámica temporal de accidentes en Madrid', y=1, fontsize=18)\n",
    "plt.title('Fecha del 01-01-2019 al 30-04-2023', fontsize=10)\n",
    "plt.xlabel('Fecha', fontsize=9, fontweight='bold')\n",
    "plt.ylabel('Accidentes', fontsize=9, fontweight='bold')\n",
    "\n",
    "# Configurar los ejes de fecha\n",
    "ax = plt.gca()  # Obtener los ejes actuales\n",
    "ax.xaxis.set_major_locator(mdates.MonthLocator(bymonth=(1, 7)))  # Establecer localizador de los principales ticks de mes\n",
    "ax.xaxis.set_minor_locator(mdates.MonthLocator())  # Establecer localizador de los ticks menores de mes\n",
    "ax.xaxis.set_major_formatter(mdates.ConciseDateFormatter(ax.xaxis.get_major_locator()))  # Establecer formato conciso para los principales ticks de fecha\n",
    "\n",
    "# Agregar rectángulo de confinamiento\n",
    "start_date = '2020-03-15'\n",
    "end_date = '2020-06-21'\n",
    "rectangle = patches.Rectangle((mdates.datestr2num(start_date), 0), mdates.datestr2num(end_date) - mdates.datestr2num(start_date), plt.ylim()[1], facecolor='red', alpha=0.3)\n",
    "ax.add_patch(rectangle)\n",
    "\n",
    "# Agregar etiqueta \"confinamiento\" con flecha curva\n",
    "label_text = ax.annotate('Confinamiento', xy=(mdates.datestr2num('2020-05-15'), 1500), xytext=(mdates.datestr2num('2020-07-21'), 2000),\n",
    "                          arrowprops=dict(arrowstyle='->'), ha='center', va='center', rotation=0, fontsize=14)\n",
    "\n",
    "\n",
    "\n",
    "configurar_grafico()\n",
    "plt.show()\n"
   ]
  },
  {
   "attachments": {},
   "cell_type": "markdown",
   "id": "de1c72f6",
   "metadata": {
    "heading_collapsed": true
   },
   "source": [
    "### Accidentes por año"
   ]
  },
  {
   "cell_type": "code",
   "execution_count": 25,
   "id": "91e79fc7",
   "metadata": {
    "hidden": true,
    "scrolled": true
   },
   "outputs": [
    {
     "data": {
      "image/png": "[encoded data removed]",
      "text/plain": [
       "<Figure size 1200x300 with 1 Axes>"
      ]
     },
     "metadata": {},
     "output_type": "display_data"
    }
   ],
   "source": [
    "# Gráfico de barras para el número de accidentes por año\n",
    "ax = df_total_unicos['fecha'].groupby(df_total_unicos.fecha.dt.year).agg('count').plot(\n",
    "       kind='bar',  # Tipo de gráfico de barras\n",
    "       color='#35b6ff',  # Color de las barras\n",
    "       figsize=(12, 3) # Tamaño de la figura\n",
    ")\n",
    "\n",
    "\n",
    "# Estilo gráfico\n",
    "plt.xticks(rotation=30, ha='right')  # Rotar y alinear las etiquetas del eje x para mejorar legibilidad\n",
    "plt.tight_layout()  # Ajustar el espacio entre los elementos del gráfico\n",
    "plt.title(\"Número de accidentes por años\" , fontsize=12)\n",
    "plt.xlabel('Años', y=2, fontsize=9, fontweight='bold') # Etiqueta del eje x con salto de línea\n",
    "plt.ylabel('Nº Accidentes', fontsize=9, fontweight='bold') # Etiqueta del eje y\n",
    "\n",
    "# Añadir líneas finas horizontales\n",
    "plt.grid(axis='y', color='gray', linestyle=':', linewidth=0.5)\n",
    "\n",
    "\n",
    "    \n",
    "ax.tick_params(axis='x', which='both', bottom=False, top=False)  # Ocultar marcadores verticales en el eje x\n",
    "# Quitar el marco\n",
    "ax.spines['top'].set_visible(False)\n",
    "ax.spines['right'].set_visible(False)\n",
    "ax.spines['left'].set_visible(False)\n",
    "\n",
    "# Agregar etiquetas con el número de accidentes dentro de las barras\n",
    "for rect in ax.containers[0]:\n",
    "    height = rect.get_height()\n",
    "    ax.annotate(str(height), xy=(rect.get_x() + rect.get_width() / 2, height),\n",
    "                xytext=(0, 3), textcoords=\"offset points\",\n",
    "                ha='center', va='bottom')\n",
    "    \n",
    "\n",
    "    \n",
    "    \n",
    "plt.show()  # Mostrar el gráfico\n"
   ]
  },
  {
   "attachments": {},
   "cell_type": "markdown",
   "id": "5450d4d6",
   "metadata": {
    "heading_collapsed": true
   },
   "source": [
    "### Accidentes por meses"
   ]
  },
  {
   "cell_type": "code",
   "execution_count": 26,
   "id": "89e1572c",
   "metadata": {
    "hidden": true,
    "scrolled": true
   },
   "outputs": [
    {
     "data": {
      "image/png": "[encoded data removed]",
      "text/plain": [
       "<Figure size 1200x300 with 1 Axes>"
      ]
     },
     "metadata": {},
     "output_type": "display_data"
    }
   ],
   "source": [
    "import calendar\n",
    "\n",
    "# Obtener las abreviaturas de los meses\n",
    "month_abbr = [calendar.month_abbr[i] for i in range(1, 13)]\n",
    "\n",
    "# Gráfico de barras para el número de accidentes por año\n",
    "ax = df_total_unicos['fecha'].groupby(df_total_unicos.fecha.dt.month).agg('count').plot(\n",
    "       kind='bar',  # Tipo de gráfico de barras\n",
    "       color='#35b6ff',  # Color de las barras\n",
    "       figsize=(12, 3) # Tamaño de la figura\n",
    ")\n",
    "\n",
    "# Calcula la media de los accidentes\n",
    "mean_accidents = df_total_unicos['fecha'].groupby(df_total_unicos.fecha.dt.month).agg('count').mean()\n",
    "\n",
    "# Dibuja la línea discontinua roja para representar la media\n",
    "ax.axhline(mean_accidents, color='red', linestyle='-.', label='Media', linewidth=1)\n",
    "\n",
    "# Estilo de la etiqueta de la media\n",
    "label_props = {'color': 'red', 'weight': 'bold', 'ha': 'center', 'va': 'bottom'}\n",
    "\n",
    "# Agregar etiqueta con el valor de la media\n",
    "ax.text(0, mean_accidents, f'{mean_accidents:.1f}', **label_props)\n",
    "\n",
    "# Estilo gráfico\n",
    "plt.xticks(range(12), month_abbr, rotation=30, ha='right')  # Usar las abreviaturas de los meses en el eje x\n",
    "plt.tight_layout()  # Ajustar el espacio entre los elementos del gráfico\n",
    "plt.title(\"Número de accidentes por meses\", fontsize=12)\n",
    "plt.xlabel('Meses', y=2, fontsize=9, fontweight='bold') # Etiqueta del eje x con salto de línea\n",
    "plt.ylabel('Nº Accidentes', fontsize=9, fontweight='bold') # Etiqueta del eje y\n",
    "\n",
    "# Añadir líneas finas horizontales\n",
    "plt.grid(axis='y', color='gray', linestyle=':', linewidth=0.5)\n",
    "\n",
    "ax.tick_params(axis='x', which='both', bottom=False, top=False)  # Ocultar marcadores verticales en el eje x\n",
    "# Quitar el marco\n",
    "ax.spines['top'].set_visible(False)\n",
    "ax.spines['right'].set_visible(False)\n",
    "ax.spines['left'].set_visible(False)\n",
    "\n",
    "# Agregar etiquetas con el número de accidentes dentro de las barras\n",
    "for rect in ax.containers[0]:\n",
    "    height = rect.get_height()\n",
    "    ax.annotate(str(height), xy=(rect.get_x() + rect.get_width() / 2, height),\n",
    "                xytext=(0, 3), textcoords=\"offset points\",\n",
    "                ha='center', va='bottom')\n",
    "\n",
    "# Mostrar leyenda\n",
    "ax.legend()\n",
    "\n",
    "plt.show()  # Mostrar el gráfico\n"
   ]
  },
  {
   "attachments": {},
   "cell_type": "markdown",
   "id": "0944c25a",
   "metadata": {
    "heading_collapsed": true
   },
   "source": [
    "### Accidentes por días"
   ]
  },
  {
   "cell_type": "code",
   "execution_count": 27,
   "id": "8c69f41a",
   "metadata": {
    "hidden": true,
    "scrolled": true
   },
   "outputs": [
    {
     "data": {
      "image/png": "[encoded data removed]",
      "text/plain": [
       "<Figure size 1200x300 with 1 Axes>"
      ]
     },
     "metadata": {},
     "output_type": "display_data"
    }
   ],
   "source": [
    "# Gráfico de barras para el número de accidentes por días del año\n",
    "ax = df_total_unicos['fecha'].groupby(df_total_unicos.fecha.dt.day).agg('count').plot(\n",
    "       kind='bar',  # Tipo de gráfico de barras\n",
    "       color='#35b6ff',  # Color de las barras\n",
    "       figsize=(12, 3) # Tamaño de la figura\n",
    ")\n",
    "\n",
    "# Estilo gráfico\n",
    "plt.xticks(rotation=45, ha='right')  # Rotar y alinear las etiquetas del eje x para mejorar legibilidad\n",
    "plt.tight_layout()  # Ajustar el espacio entre los elementos del gráfico\n",
    "plt.title(\"Número de accidentes por días del mes\", fontsize=12)\n",
    "plt.xlabel('Días del mes', y=2, fontsize=9, fontweight='bold') # Etiqueta del eje x con salto de línea\n",
    "plt.ylabel('Nº Accidentes', fontsize=9, fontweight='bold') # Etiqueta del eje y\n",
    "\n",
    "# Añadir líneas finas horizontales\n",
    "plt.grid(axis='y', color='gray', linestyle=':', linewidth=0.5)\n",
    "\n",
    "ax.tick_params(axis='x', which='both', bottom=False, top=False)  # Ocultar marcadores verticales en el eje x\n",
    "# Quitar el marco\n",
    "ax.spines['top'].set_visible(False)\n",
    "ax.spines['right'].set_visible(False)\n",
    "ax.spines['left'].set_visible(False)\n",
    "\n",
    "plt.show()  # Mostrar el gráfico\n"
   ]
  },
  {
   "attachments": {},
   "cell_type": "markdown",
   "id": "839f6d98",
   "metadata": {
    "heading_collapsed": true
   },
   "source": [
    "### Accidentes por horas"
   ]
  },
  {
   "cell_type": "code",
   "execution_count": 28,
   "id": "29c23725",
   "metadata": {
    "hidden": true
   },
   "outputs": [
    {
     "data": {
      "image/png": "[encoded data removed]",
      "text/plain": [
       "<Figure size 1200x300 with 1 Axes>"
      ]
     },
     "metadata": {},
     "output_type": "display_data"
    }
   ],
   "source": [
    "# Convertir la columna \"hora\" a cadena\n",
    "df_total_unicos['hora'] = df_total_unicos['hora'].astype(str)\n",
    "\n",
    "# Convertir la columna \"hora\" a tipo datetime\n",
    "df_total_unicos['hora'] = pd.to_datetime(df_total_unicos['hora'], format='%Y-%m-%d %H:%M:%S')\n",
    "\n",
    "# Agrupar por hora y contar el número de accidentes\n",
    "accidentes_por_hora = df_total_unicos.groupby(df_total_unicos['hora'].dt.hour)['hora'].count()\n",
    "\n",
    "# Crear el gráfico de barras\n",
    "ax = accidentes_por_hora.plot(kind='bar', color='#35b6ff', figsize=(12, 3))\n",
    "\n",
    "# Estilo gráfico\n",
    "plt.xticks(rotation=0)  # No rotar las etiquetas del eje x\n",
    "plt.tight_layout()\n",
    "plt.title(\"Número de accidentes por horas del día\", fontsize=12)\n",
    "plt.xlabel('Horas del día', fontsize=9, fontweight='bold')\n",
    "plt.ylabel('Nº Accidentes', fontsize=9, fontweight='bold')\n",
    "plt.grid(axis='y', color='gray', linestyle=':', linewidth=0.5)\n",
    "\n",
    "ax.tick_params(axis='x', which='both', bottom=False, top=False)\n",
    "ax.spines['top'].set_visible(False)\n",
    "ax.spines['right'].set_visible(False)\n",
    "ax.spines['left'].set_visible(False)\n",
    "\n",
    "plt.show()\n"
   ]
  },
  {
   "attachments": {},
   "cell_type": "markdown",
   "id": "8d5780e4",
   "metadata": {},
   "source": [
    "### Accidentes por minutos"
   ]
  },
  {
   "cell_type": "code",
   "execution_count": 29,
   "id": "13852a59",
   "metadata": {
    "scrolled": true
   },
   "outputs": [
    {
     "data": {
      "image/png": "[encoded data removed]",
      "text/plain": [
       "<Figure size 1200x300 with 1 Axes>"
      ]
     },
     "metadata": {},
     "output_type": "display_data"
    }
   ],
   "source": [
    "# Convertir la columna \"hora\" a tipo datetime\n",
    "df_total_unicos['hora'] = pd.to_datetime(df_total_unicos['hora'], format='%Y-%m-%d %H:%M:%S', errors='coerce')\n",
    "\n",
    "# Obtener el componente de minutos de la columna \"hora\"\n",
    "df_total_unicos['minutos'] = df_total_unicos['hora'].dt.minute\n",
    "\n",
    "# Filtrar los valores nulos en la columna \"minutos\"\n",
    "df_filtered = df_total_unicos.dropna(subset=['minutos'])\n",
    "\n",
    "# Agrupar por minutos y contar el número de accidentes\n",
    "accidentes_por_minuto = df_filtered.groupby(df_filtered['minutos'])['minutos'].count()\n",
    "\n",
    "# Crear el gráfico de barras\n",
    "ax = accidentes_por_minuto.plot(kind='bar', color='#35b6ff', figsize=(12, 3))\n",
    "\n",
    "# Estilo gráfico\n",
    "plt.xticks(rotation=0)\n",
    "plt.tight_layout()\n",
    "plt.title(\"Número de accidentes por minutos\", fontsize=12)\n",
    "plt.xlabel('Minutos', fontsize=9, fontweight='bold')\n",
    "plt.ylabel('Nº Accidentes', fontsize=9, fontweight='bold')\n",
    "plt.grid(axis='y', color='gray', linestyle=':', linewidth=0.5)\n",
    "\n",
    "ax.tick_params(axis='x', which='both', bottom=False, top=False)\n",
    "ax.spines['top'].set_visible(False)\n",
    "ax.spines['right'].set_visible(False)\n",
    "ax.spines['left'].set_visible(False)\n",
    "\n",
    "plt.show()\n"
   ]
  },
  {
   "attachments": {},
   "cell_type": "markdown",
   "id": "0f648082",
   "metadata": {
    "heading_collapsed": true
   },
   "source": [
    "### Experience - Dashboard"
   ]
  },
  {
   "attachments": {},
   "cell_type": "markdown",
   "id": "6e868816",
   "metadata": {
    "hidden": true
   },
   "source": [
    "<div style=\"text-align:center;\">\n",
    "    <img src=\"./assets/dashboard.png\">\n",
    "    <a href=\"https://experience.arcgis.com/experience/10bc2a493a974d5caf024ff13d7891b3/page/Visualizaci%C3%B3n-espacial/?views=Cibeles\">Experience - Dashboard</a>\n",
    "</div>\n"
   ]
  },
  {
   "attachments": {},
   "cell_type": "markdown",
   "id": "9e00bc3c",
   "metadata": {},
   "source": [
    "## Granularidad espacial (Mapa)"
   ]
  },
  {
   "attachments": {},
   "cell_type": "markdown",
   "id": "83a35140",
   "metadata": {
    "heading_collapsed": true
   },
   "source": [
    "#### De cordenadas UTM a geometría "
   ]
  },
  {
   "cell_type": "raw",
   "id": "3c147991",
   "metadata": {
    "hidden": true,
    "scrolled": true
   },
   "source": [
    "import os\n",
    "import arcpy\n",
    "current_dir = os.getcwd()\n",
    "mis_datos = \"datos/\"\n",
    "\n",
    "#-----------------------------Varaiables----------------------------------\n",
    "df_total_unicos_csv = os.path.join(current_dir, mis_datos, \"df_total_unicos.csv\")\n",
    "puntos_accidentes = '\\\\puntos_accidentes'\n",
    "path_gdb = r\"C:\\00_Documentos_ESRI\\99_Mis_proyectos_ArcGIS_Pro\\Análisis de Siniestralidad - Madrid\\Análisis de Siniestralidad - Madrid.gdb\"\n",
    "\n",
    "path_output = path_gdb + puntos_accidentes\n",
    "#-------------------------------------------------------------------------\n",
    "\n",
    "#-Convertir tabla en geometria\n",
    "arcpy.management.XYTableToPoint(\n",
    "    in_table = df_total_unicos_csv,\n",
    "    out_feature_class=path_output,\n",
    "    x_field=\"coordenada_x_utm\",\n",
    "    y_field=\"coordenada_y_utm\",\n",
    "    z_field=None,\n",
    "    coordinate_system = arcpy.SpatialReference(25830) # Coordenadas UTM\n",
    ")"
   ]
  },
  {
   "cell_type": "code",
   "execution_count": 30,
   "id": "e3ac89f9",
   "metadata": {
    "hidden": true
   },
   "outputs": [],
   "source": [
    "#puntos_accidentes\n",
    "puntos_accidentes = arcpy.management.CopyFeatures(r'C:\\00_Documentos_ESRI\\99_Mis_proyectos_ArcGIS_Pro\\Análisis de Siniestralidad - Madrid\\datos\\outputs\\puntos_accidentes.shp', 'puntos_accidentes')"
   ]
  },
  {
   "attachments": {},
   "cell_type": "markdown",
   "id": "cdb4da20",
   "metadata": {
    "heading_collapsed": true
   },
   "source": [
    "#### Densidad accidentes"
   ]
  },
  {
   "cell_type": "code",
   "execution_count": 32,
   "id": "7263436a",
   "metadata": {
    "hidden": true
   },
   "outputs": [],
   "source": [
    "mapa_densidad = arcpy.sa.KernelDensity(\n",
    "    in_features=\"puntos_accidentes\",\n",
    "    population_field=\"NONE\",\n",
    "    cell_size=10,\n",
    "    search_radius=None,\n",
    "    area_unit_scale_factor=\"SQUARE_KILOMETERS\",\n",
    "    out_cell_values=\"DENSITIES\",\n",
    "    method=\"PLANAR\",\n",
    "    in_barriers=None\n",
    ")\n",
    "\n"
   ]
  },
  {
   "cell_type": "code",
   "execution_count": null,
   "id": "d0ccd77d",
   "metadata": {
    "hidden": true
   },
   "outputs": [],
   "source": [
    "# Eliminar la capa\n",
    "#path_gdb = r\"C:\\00_Documentos_ESRI\\99_Mis_proyectos_ArcGIS_Pro\\Análisis de Siniestralidad - Madrid\\Análisis de Siniestralidad - Madrid.gdb\"\n",
    "#Densidad = '\\\\mapa_densidad'\n",
    "##########################\n",
    "#arcpy.Delete_management(path_gdb+ Densidad)"
   ]
  },
  {
   "attachments": {},
   "cell_type": "markdown",
   "id": "c1a8aa7e",
   "metadata": {
    "heading_collapsed": true
   },
   "source": [
    "#### Accidentes por Distritos"
   ]
  },
  {
   "cell_type": "code",
   "execution_count": 37,
   "id": "448442b5",
   "metadata": {
    "hidden": true
   },
   "outputs": [],
   "source": [
    "# Cargar Distritos y barrios\n",
    "Distritos = arcpy.management.CopyFeatures(r'C:\\00_Documentos_ESRI\\99_Mis_proyectos_ArcGIS_Pro\\Análisis de Siniestralidad - Madrid\\datos\\Shapefile\\Distritos_Madrid\\Distritos.shp', 'Distritos')"
   ]
  },
  {
   "attachments": {},
   "cell_type": "markdown",
   "id": "96b34039",
   "metadata": {
    "hidden": true
   },
   "source": [
    "Aplicamos una unión espacial (**Spatial Join**) con la capa de distritos"
   ]
  },
  {
   "cell_type": "code",
   "execution_count": 38,
   "id": "de9db809",
   "metadata": {
    "hidden": true
   },
   "outputs": [
    {
     "data": {
      "text/html": [
       "<div class='gpresult'><h2>Messages</h2><div id='messages' data-messages='[\"Tiempo de Inicio: lunes, 19 de junio de 2023 12:55:09\",\"Completado correctamente el lunes, 19 de junio de 2023 12:55:09 (Tiempo transcurrido: 0,29 segundos)\"]' data-show='true'><div id = 'default' /></div></div>"
      ],
      "text/plain": [
       "<Result 'true'>"
      ]
     },
     "execution_count": 38,
     "metadata": {},
     "output_type": "execute_result"
    }
   ],
   "source": [
    "# Unión Espacial\n",
    "################\n",
    "path_gdb = r\"C:\\00_Documentos_ESRI\\99_Mis_proyectos_ArcGIS_Pro\\Análisis de Siniestralidad - Madrid\\Análisis de Siniestralidad - Madrid.gdb\"\n",
    "accidentes_distritos = '\\\\Accidentes_Distritos'\n",
    "############################################\n",
    "\n",
    "arcpy.analysis.SpatialJoin(\n",
    "    target_features= Distritos,\n",
    "    join_features=\"puntos_accidentes\",\n",
    "    out_feature_class = path_gdb + accidentes_distritos,\n",
    "    join_operation=\"JOIN_ONE_TO_ONE\",\n",
    "    join_type=\"KEEP_ALL\",\n",
    "    field_mapping='CODDIS \"CODDIS\" true true false 2 Text 0 0,First,#,Barrios,CODDIS,0,2;NOMDIS \"NOMDIS\" true true false 50 Text 0 0,First,#,Barrios,NOMDIS,0,50;COD_BAR \"COD_BAR\" true true false 3 Text 0 0,First,#,Barrios,COD_BAR,0,3;NOMBRE \"NOMBRE\" true true false 50 Text 0 0,First,#,Barrios,NOMBRE,0,50;Shape_Leng \"Shape_Leng\" true true false 8 Double 0 0,First,#,Barrios,Shape_Leng,-1,-1;COD_DIS_TX \"COD_DIS_TX\" true true false 2 Text 0 0,First,#,Barrios,COD_DIS_TX,0,2;BARRIO_MAY \"BARRIO_MAY\" true true false 50 Text 0 0,First,#,Barrios,BARRIO_MAY,0,50;COD_DISBAR \"COD_DISBAR\" true true false 3 Text 0 0,First,#,Barrios,COD_DISBAR,0,3;NUM_BAR \"NUM_BAR\" true true false 1 Text 0 0,First,#,Barrios,NUM_BAR,0,1;BARRIO_MT \"BARRIO_MT\" true true false 50 Text 0 0,First,#,Barrios,BARRIO_MT,0,50;COD_DISB \"COD_DISB\" true true false 4 Text 0 0,First,#,Barrios,COD_DISB,0,4;Shape_Length \"Shape_Length\" false true true 8 Double 0 0,First,#,Barrios,Shape_Length,-1,-1;Shape_Area \"Shape_Area\" false true true 8 Double 0 0,First,#,Barrios,Shape_Area,-1,-1;num_expedi \"num_expedi\" true true false 254 Text 0 0,First,#,puntos_accidentes,num_expedi,0,254;fecha \"fecha\" true true false 8 Date 0 0,First,#,puntos_accidentes,fecha,-1,-1;hora \"hora\" true true false 8 Date 0 0,First,#,puntos_accidentes,hora,-1,-1;localizaci \"localizaci\" true true false 254 Text 0 0,First,#,puntos_accidentes,localizaci,0,254;numero \"numero\" true true false 254 Text 0 0,First,#,puntos_accidentes,numero,0,254;cod_distri \"cod_distri\" true true false 19 Double 0 0,First,#,puntos_accidentes,cod_distri,-1,-1;distrito \"distrito\" true true false 254 Text 0 0,First,#,puntos_accidentes,distrito,0,254;tipo_accid \"tipo_accid\" true true false 254 Text 0 0,First,#,puntos_accidentes,tipo_accid,0,254;estado_met \"estado_met\" true true false 254 Text 0 0,First,#,puntos_accidentes,estado_met,0,254;tipo_vehic \"tipo_vehic\" true true false 254 Text 0 0,First,#,puntos_accidentes,tipo_vehic,0,254;tipo_perso \"tipo_perso\" true true false 254 Text 0 0,First,#,puntos_accidentes,tipo_perso,0,254;rango_edad \"rango_edad\" true true false 254 Text 0 0,First,#,puntos_accidentes,rango_edad,0,254;sexo \"sexo\" true true false 254 Text 0 0,First,#,puntos_accidentes,sexo,0,254;cod_lesivi \"cod_lesivi\" true true false 19 Double 0 0,First,#,puntos_accidentes,cod_lesivi,-1,-1;lesividad \"lesividad\" true true false 254 Text 0 0,First,#,puntos_accidentes,lesividad,0,254;coordenada \"coordenada\" true true false 19 Double 0 0,First,#,puntos_accidentes,coordenada,-1,-1;coordena_1 \"coordena_1\" true true false 19 Double 0 0,First,#,puntos_accidentes,coordena_1,-1,-1;positiva_a \"positiva_a\" true true false 254 Text 0 0,First,#,puntos_accidentes,positiva_a,0,254;positiva_d \"positiva_d\" true true false 19 Double 0 0,First,#,puntos_accidentes,positiva_d,-1,-1',\n",
    "    match_option=\"INTERSECT\",\n",
    "    search_radius=None,\n",
    "    distance_field_name=\"\"\n",
    ")\n",
    "\n",
    "# Eliminar la capa\n",
    "Distritos = '\\\\Distritos'\n",
    "arcpy.Delete_management(path_gdb+ Distritos)"
   ]
  },
  {
   "attachments": {},
   "cell_type": "markdown",
   "id": "96dc9a79",
   "metadata": {
    "heading_collapsed": true
   },
   "source": [
    "#### Accidentes por Barrios"
   ]
  },
  {
   "attachments": {},
   "cell_type": "markdown",
   "id": "a2d4b08d",
   "metadata": {
    "hidden": true
   },
   "source": [
    "Aplicamos una unión espacial (**Spatial Join**) con la capa de barrios"
   ]
  },
  {
   "cell_type": "code",
   "execution_count": 36,
   "id": "44d91136",
   "metadata": {
    "hidden": true
   },
   "outputs": [
    {
     "data": {
      "text/html": [
       "<div class='gpresult'><h2>Messages</h2><div id='messages' data-messages='[\"Tiempo de Inicio: lunes, 19 de junio de 2023 12:54:22\",\"WARNING 000110: C:\\\\00_Documentos_ESRI\\\\99_Mis_proyectos_ArcGIS_Pro\\\\Análisis de Siniestralidad - Madrid\\\\Análisis de Siniestralidad - Madrid.gdb\\\\Barrios no existe\",\"Completado correctamente el lunes, 19 de junio de 2023 12:54:22 (Tiempo transcurrido: 0,01 segundos)\"]' data-show='true'><div id = 'default' /></div></div>"
      ],
      "text/plain": [
       "<Result 'true'>"
      ]
     },
     "execution_count": 36,
     "metadata": {},
     "output_type": "execute_result"
    }
   ],
   "source": [
    "#Barrios = arcpy.management.CopyFeatures(r'C:\\00_Documentos_ESRI\\99_Mis_proyectos_ArcGIS_Pro\\Análisis de Siniestralidad - Madrid\\datos\\Shapefile\\Barrios_Madrid\\Barrios.shp', 'Barrios')\n",
    "Barrios = r'C:\\00_Documentos_ESRI\\99_Mis_proyectos_ArcGIS_Pro\\Análisis de Siniestralidad - Madrid\\datos\\Shapefile\\Barrios_Madrid\\Barrios.shp'\n",
    "accidentes_barrios = '\\\\Accidentes_Barrios'\n",
    "#########################################\n",
    "\n",
    "arcpy.analysis.SpatialJoin(\n",
    "    target_features= Barrios,\n",
    "    join_features=\"puntos_accidentes\",\n",
    "    out_feature_class = path_gdb + accidentes_barrios,\n",
    "    join_operation=\"JOIN_ONE_TO_ONE\",\n",
    "    join_type=\"KEEP_ALL\",\n",
    "    field_mapping='CODDIS \"CODDIS\" true true false 2 Text 0 0,First,#,Barrios,CODDIS,0,2;NOMDIS \"NOMDIS\" true true false 50 Text 0 0,First,#,Barrios,NOMDIS,0,50;COD_BAR \"COD_BAR\" true true false 3 Text 0 0,First,#,Barrios,COD_BAR,0,3;NOMBRE \"NOMBRE\" true true false 50 Text 0 0,First,#,Barrios,NOMBRE,0,50;Shape_Leng \"Shape_Leng\" true true false 8 Double 0 0,First,#,Barrios,Shape_Leng,-1,-1;COD_DIS_TX \"COD_DIS_TX\" true true false 2 Text 0 0,First,#,Barrios,COD_DIS_TX,0,2;BARRIO_MAY \"BARRIO_MAY\" true true false 50 Text 0 0,First,#,Barrios,BARRIO_MAY,0,50;COD_DISBAR \"COD_DISBAR\" true true false 3 Text 0 0,First,#,Barrios,COD_DISBAR,0,3;NUM_BAR \"NUM_BAR\" true true false 1 Text 0 0,First,#,Barrios,NUM_BAR,0,1;BARRIO_MT \"BARRIO_MT\" true true false 50 Text 0 0,First,#,Barrios,BARRIO_MT,0,50;COD_DISB \"COD_DISB\" true true false 4 Text 0 0,First,#,Barrios,COD_DISB,0,4;Shape_Length \"Shape_Length\" false true true 8 Double 0 0,First,#,Barrios,Shape_Length,-1,-1;Shape_Area \"Shape_Area\" false true true 8 Double 0 0,First,#,Barrios,Shape_Area,-1,-1;num_expedi \"num_expedi\" true true false 254 Text 0 0,First,#,puntos_accidentes,num_expedi,0,254;fecha \"fecha\" true true false 8 Date 0 0,First,#,puntos_accidentes,fecha,-1,-1;hora \"hora\" true true false 8 Date 0 0,First,#,puntos_accidentes,hora,-1,-1;localizaci \"localizaci\" true true false 254 Text 0 0,First,#,puntos_accidentes,localizaci,0,254;numero \"numero\" true true false 254 Text 0 0,First,#,puntos_accidentes,numero,0,254;cod_distri \"cod_distri\" true true false 19 Double 0 0,First,#,puntos_accidentes,cod_distri,-1,-1;distrito \"distrito\" true true false 254 Text 0 0,First,#,puntos_accidentes,distrito,0,254;tipo_accid \"tipo_accid\" true true false 254 Text 0 0,First,#,puntos_accidentes,tipo_accid,0,254;estado_met \"estado_met\" true true false 254 Text 0 0,First,#,puntos_accidentes,estado_met,0,254;tipo_vehic \"tipo_vehic\" true true false 254 Text 0 0,First,#,puntos_accidentes,tipo_vehic,0,254;tipo_perso \"tipo_perso\" true true false 254 Text 0 0,First,#,puntos_accidentes,tipo_perso,0,254;rango_edad \"rango_edad\" true true false 254 Text 0 0,First,#,puntos_accidentes,rango_edad,0,254;sexo \"sexo\" true true false 254 Text 0 0,First,#,puntos_accidentes,sexo,0,254;cod_lesivi \"cod_lesivi\" true true false 19 Double 0 0,First,#,puntos_accidentes,cod_lesivi,-1,-1;lesividad \"lesividad\" true true false 254 Text 0 0,First,#,puntos_accidentes,lesividad,0,254;coordenada \"coordenada\" true true false 19 Double 0 0,First,#,puntos_accidentes,coordenada,-1,-1;coordena_1 \"coordena_1\" true true false 19 Double 0 0,First,#,puntos_accidentes,coordena_1,-1,-1;positiva_a \"positiva_a\" true true false 254 Text 0 0,First,#,puntos_accidentes,positiva_a,0,254;positiva_d \"positiva_d\" true true false 19 Double 0 0,First,#,puntos_accidentes,positiva_d,-1,-1',\n",
    "    match_option=\"INTERSECT\",\n",
    "    search_radius=None,\n",
    "    distance_field_name=\"\"\n",
    ")\n",
    "\n",
    "# Eliminar la capa\n",
    "arcpy.Delete_management(path_gdb+ accidentes_distritos)\n",
    "Barrios = '\\\\Barrios'\n",
    "arcpy.Delete_management(path_gdb+ Barrios)\n",
    "\n"
   ]
  },
  {
   "cell_type": "code",
   "execution_count": 38,
   "id": "a04d8c35",
   "metadata": {
    "hidden": true
   },
   "outputs": [
    {
     "data": {
      "text/html": [
       "<div class='gpresult'><h2>Messages</h2><div id='messages' data-messages='[\"Tiempo de Inicio: lunes, 19 de junio de 2023 12:03:18\",\"Completado correctamente el lunes, 19 de junio de 2023 12:03:18 (Tiempo transcurrido: 0,29 segundos)\"]' data-show='true'><div id = 'default' /></div></div>"
      ],
      "text/plain": [
       "<Result 'true'>"
      ]
     },
     "execution_count": 38,
     "metadata": {},
     "output_type": "execute_result"
    }
   ],
   "source": [
    "# Eliminar la capa\n",
    "arcpy.Delete_management(path_gdb+ accidentes_barrios)"
   ]
  },
  {
   "attachments": {},
   "cell_type": "markdown",
   "id": "b5be4c13",
   "metadata": {},
   "source": [
    "#### Accidentes en la red navegable (Carreteras)"
   ]
  },
  {
   "attachments": {},
   "cell_type": "markdown",
   "id": "b9ebc938",
   "metadata": {},
   "source": [
    "Cargamos los datos la red de carreteras de **OSM**"
   ]
  },
  {
   "attachments": {},
   "cell_type": "markdown",
   "id": "1be369b0",
   "metadata": {},
   "source": [
    "<img src=\"./assets/accidentes_en_carretera.png\">"
   ]
  },
  {
   "cell_type": "code",
   "execution_count": 74,
   "id": "2389b560",
   "metadata": {},
   "outputs": [
    {
     "data": {
      "text/html": [
       "<div class='gpresult'><h2>Messages</h2><div id='messages' data-messages='[\"Tiempo de Inicio: lunes, 19 de junio de 2023 14:18:00\",\"Completado correctamente en lunes, 19 de junio de 2023 14:19:58 (Tiempo transcurrido: 1 minutos 57 segundos)\"]' data-show='true'><div id = 'default' /></div></div>"
      ],
      "text/plain": [
       "<Result 'Carreteras'>"
      ]
     },
     "execution_count": 74,
     "metadata": {},
     "output_type": "execute_result"
    }
   ],
   "source": [
    "Carreteras = arcpy.management.CopyFeatures(r'C:\\00_Documentos_ESRI\\99_Mis_proyectos_ArcGIS_Pro\\Análisis de Siniestralidad - Madrid\\datos\\Shapefile\\OSM_MADRID\\gis_osm_roads_free_1.shp', 'Carreteras')\n",
    "#Carreteras = r'C:\\00_Documentos_ESRI\\99_Mis_proyectos_ArcGIS_Pro\\Análisis de Siniestralidad - Madrid\\datos\\Shapefile\\OSM_MADRID\\gis_osm_roads_free_1.shp'\n",
    "accidentes_Carreteras = 'Accidentes_Carreteras'\n",
    "###############################################\n",
    "\n",
    "\n",
    "# Puntos de accidente cerca de la carreter\n",
    "# Agregamos a la capa de Carreteras -> NEAR_FID NEAR_DIST\n",
    "arcpy.analysis.Near(\n",
    "    in_features=\"puntos_accidentes\",\n",
    "    near_features=\"Carreteras\",\n",
    "    search_radius=None,\n",
    "    location=\"NO_LOCATION\",\n",
    "    angle=\"NO_ANGLE\",\n",
    "    method=\"PLANAR\",\n",
    "    field_names=\"NEAR_FID NEAR_FID;NEAR_DIST NEAR_DIST\",\n",
    "    distance_unit=\"\"\n",
    ")\n",
    "\n",
    "# Agrupamos por campo NEAR_FID y contamos por NEAR_DIST\n",
    "conteo_puntos_carratera = '\\conteo_puntos_carratera'\n",
    "#####################################################\n",
    "\n",
    "arcpy.management.Dissolve(\n",
    "    in_features=\"puntos_accidentes\",\n",
    "    out_feature_class = path_gdb + conteo_puntos_carratera,\n",
    "    dissolve_field=\"NEAR_FID\",\n",
    "    statistics_fields=\"NEAR_DIST COUNT\",\n",
    "    multi_part=\"MULTI_PART\",\n",
    "    unsplit_lines=\"DISSOLVE_LINES\",\n",
    "    concatenation_separator=\"\"\n",
    ")\n",
    "\n",
    "# Unimos las dos tablas\n",
    "arcpy.management.JoinField(\n",
    "    in_data=\"Carreteras\",\n",
    "    in_field=\"OBJECTID\",\n",
    "    join_table=\"conteo_puntos_carratera\",\n",
    "    join_field=\"NEAR_FID\",\n",
    "    fields=None,\n",
    "    fm_option=\"NOT_USE_FM\",\n",
    "    field_mapping=None\n",
    ")\n"
   ]
  },
  {
   "cell_type": "code",
   "execution_count": null,
   "id": "7d7c255c",
   "metadata": {
    "scrolled": true
   },
   "outputs": [],
   "source": [
    "# Eliminar la capa\n",
    "#arcpy.Delete_management(path_gdb+ conteo_puntos_carratera)\n",
    "\n",
    "# Eliminar la capa\n",
    "#Carreteras = '\\\\Carreteras'\n",
    "#arcpy.Delete_management(path_gdb+ Carreteras)"
   ]
  },
  {
   "attachments": {},
   "cell_type": "markdown",
   "id": "2b0db1b6",
   "metadata": {
    "heading_collapsed": true
   },
   "source": [
    "# Análisis Forense"
   ]
  },
  {
   "attachments": {},
   "cell_type": "markdown",
   "id": "995091a8",
   "metadata": {
    "hidden": true
   },
   "source": [
    "## ¿Se producen más Atropellos cerca de colegios?\n",
    "\n",
    "Nuestro siguiente estudio trabajará sobre las áreas de influencia de los colegios de Madrid. Para el presente análisis hemos usado tanto los colegios públicos como privados de educación infantil, primaria y secundaria del Municipio de Madrid, analizando un total de **1.505 colegios**.\n",
    "\n"
   ]
  },
  {
   "attachments": {},
   "cell_type": "markdown",
   "id": "4a8ac6e7",
   "metadata": {
    "hidden": true
   },
   "source": [
    "### Nº de Atropellos en un área de 1 minuto andando "
   ]
  },
  {
   "cell_type": "code",
   "execution_count": 49,
   "id": "759936c1",
   "metadata": {
    "hidden": true
   },
   "outputs": [],
   "source": [
    "# Coloegios Publicos y Privados.\n",
    "colegios = arcpy.management.CopyFeatures(r'C:\\00_Documentos_ESRI\\99_Mis_proyectos_ArcGIS_Pro\\Análisis de Siniestralidad - Madrid\\datos\\Shapefile\\colegios_madrid_pu_pr_sf\\colegios_madrid_pu_pr_sf.shp', 'Colegios')"
   ]
  },
  {
   "cell_type": "code",
   "execution_count": 17,
   "id": "e7f74cf0",
   "metadata": {
    "hidden": true
   },
   "outputs": [],
   "source": [
    "# Cargamos la capa con el total de accidentes\n",
    "#todos_accidentes = arcpy.management.CopyFeatures(r'C:\\00_Documentos_ESRI\\99_Mis_proyectos_ArcGIS_Pro\\Análisis de Siniestralidad - Madrid\\datos\\outputs\\todos_accidentes\\todos_accidentes.shp', 'todos_accidentes')"
   ]
  },
  {
   "cell_type": "code",
   "execution_count": 52,
   "id": "0b3ba586",
   "metadata": {
    "hidden": true,
    "scrolled": true
   },
   "outputs": [
    {
     "data": {
      "text/html": [
       "<div>\n",
       "<style scoped>\n",
       "    .dataframe tbody tr th:only-of-type {\n",
       "        vertical-align: middle;\n",
       "    }\n",
       "\n",
       "    .dataframe tbody tr th {\n",
       "        vertical-align: top;\n",
       "    }\n",
       "\n",
       "    .dataframe thead th {\n",
       "        text-align: right;\n",
       "    }\n",
       "</style>\n",
       "<table border=\"1\" class=\"dataframe\">\n",
       "  <thead>\n",
       "    <tr style=\"text-align: right;\">\n",
       "      <th></th>\n",
       "      <th>accidentes</th>\n",
       "      <th>Número</th>\n",
       "    </tr>\n",
       "  </thead>\n",
       "  <tbody>\n",
       "    <tr>\n",
       "      <th>0</th>\n",
       "      <td>Atropellos a persona Totals</td>\n",
       "      <td>12620</td>\n",
       "    </tr>\n",
       "  </tbody>\n",
       "</table>\n",
       "</div>"
      ],
      "text/plain": [
       "                    accidentes  Número\n",
       "0  Atropellos a persona Totals   12620"
      ]
     },
     "execution_count": 52,
     "metadata": {},
     "output_type": "execute_result"
    }
   ],
   "source": [
    "# Selecciona de la variable tiop de accidente \"Atropello a persona\"\n",
    "todos_accidentes = \"\\\\puntos_accidentes\"\n",
    "todos_accidentes  = path_gdb + todos_accidentes\n",
    "\n",
    "# Hacemos la selección de Atropello a persona sobre la capa de todos los accidentes\n",
    "seleccion = arcpy.management.SelectLayerByAttribute(todos_accidentes , \n",
    "                                        \"NEW_SELECTION\",  \n",
    "                                        # Definir la expresión de selección\n",
    "                                        \"tipo_accid = 'Atropello a persona'\")\n",
    "\n",
    "\n",
    "\n",
    "'''\n",
    "arcpy.conversion.ExportFeatures(\n",
    "    in_features=\"todos_accidentes_Layer1\",\n",
    "    out_features=r\"C:\\00_Documentos_ESRI\\99_Mis_proyectos_ArcGIS_Pro\\Análisis de Siniestralidad - Madrid\\Análisis de Siniestralidad - Madrid.gdb\\atropellos_persona\",\n",
    "    where_clause=\"\",\n",
    "    use_field_alias_as_name=\"NOT_USE_ALIAS\",\n",
    "    field_mapping='num_expediente \"num_expediente\" true true false 8000 Text 0 0,First,#,todos_accidentes_Layer1,num_expediente,0,8000;fecha \"fecha\" true true false 8 Date 0 0,First,#,todos_accidentes_Layer1,fecha,-1,-1;hora \"hora\" true true false 8 Date 0 0,First,#,todos_accidentes_Layer1,hora,-1,-1;localizacion \"localizacion\" true true false 8000 Text 0 0,First,#,todos_accidentes_Layer1,localizacion,0,8000;numero \"numero\" true true false 8000 Text 0 0,First,#,todos_accidentes_Layer1,numero,0,8000;cod_distrito \"cod_distrito\" true true false 8 Double 0 0,First,#,todos_accidentes_Layer1,cod_distrito,-1,-1;distrito \"distrito\" true true false 8000 Text 0 0,First,#,todos_accidentes_Layer1,distrito,0,8000;tipo_accidente \"tipo_accidente\" true true false 8000 Text 0 0,First,#,todos_accidentes_Layer1,tipo_accidente,0,8000;estado_meteorológico \"estado_meteorológico\" true true false 8000 Text 0 0,First,#,todos_accidentes_Layer1,estado_meteorológico,0,8000;tipo_vehiculo \"tipo_vehiculo\" true true false 8000 Text 0 0,First,#,todos_accidentes_Layer1,tipo_vehiculo,0,8000;tipo_persona \"tipo_persona\" true true false 8000 Text 0 0,First,#,todos_accidentes_Layer1,tipo_persona,0,8000;rango_edad \"rango_edad\" true true false 8000 Text 0 0,First,#,todos_accidentes_Layer1,rango_edad,0,8000;sexo \"sexo\" true true false 8000 Text 0 0,First,#,todos_accidentes_Layer1,sexo,0,8000;cod_lesividad \"cod_lesividad\" true true false 8 Double 0 0,First,#,todos_accidentes_Layer1,cod_lesividad,-1,-1;lesividad \"lesividad\" true true false 8000 Text 0 0,First,#,todos_accidentes_Layer1,lesividad,0,8000;coordenada_x_utm \"coordenada_x_utm\" true true false 8 Double 0 0,First,#,todos_accidentes_Layer1,coordenada_x_utm,-1,-1;coordenada_y_utm \"coordenada_y_utm\" true true false 8 Double 0 0,First,#,todos_accidentes_Layer1,coordenada_y_utm,-1,-1;positiva_alcohol \"positiva_alcohol\" true true false 8000 Text 0 0,First,#,todos_accidentes_Layer1,positiva_alcohol,0,8000;positiva_droga \"positiva_droga\" true true false 8 Double 0 0,First,#,todos_accidentes_Layer1,positiva_droga,-1,-1',\n",
    "    sort_field=None\n",
    ")\n",
    "\n",
    "'''\n",
    "\n",
    "# Deseleccionar todos los elementos\n",
    "#arcpy.management.SelectLayerByAttribute(capa_accidentes, \"CLEAR_SELECTION\")#SWITCH_SELECTION\n",
    "\n",
    "# Ruta de la geodatabase y nombre de la capa\n",
    "path_gdb = r\"C:\\00_Documentos_ESRI\\99_Mis_proyectos_ArcGIS_Pro\\Análisis de Siniestralidad - Madrid\\Análisis de Siniestralidad - Madrid.gdb\"\n",
    "# Obtener el número de filas de la capa\n",
    "registros_totales = int(arcpy.GetCount_management(\"atropellos_persona\").getOutput(0))\n",
    "\n",
    "\n",
    "        \n",
    "df = pd.DataFrame()\n",
    "df[\"accidentes\"] = [\"Atropellos a persona Totals\"]\n",
    "df[\"Número\"] = registros_totales\n",
    "df"
   ]
  },
  {
   "attachments": {},
   "cell_type": "markdown",
   "id": "0f16c9f4",
   "metadata": {
    "hidden": true
   },
   "source": [
    "#### Area influencia a 1 minuto andando"
   ]
  },
  {
   "cell_type": "code",
   "execution_count": 53,
   "id": "75b30b8d",
   "metadata": {
    "hidden": true
   },
   "outputs": [
    {
     "data": {
      "text/html": [
       "<div class='gpresult'><h2>Messages</h2><div id='messages' data-messages='[\"Tiempo de Inicio: lunes, 19 de junio de 2023 13:13:43\",\"Se ha eliminado el dataset de la entidad de origen de los datos de análisis \\\"C:\\\\00_Documentos_ESRI\\\\99_Mis_proyectos_ArcGIS_Pro\\\\Análisis de Siniestralidad - Madrid\\\\Análisis de Siniestralidad - Madrid.gdb\\\\ServiceAreaSolversg2zck\\\".\",\"Completado correctamente el lunes, 19 de junio de 2023 13:13:47 (Tiempo transcurrido: 4,29 segundos)\"]' data-show='true'><div id = 'default' /></div></div>"
      ],
      "text/plain": [
       "<Result 'true'>"
      ]
     },
     "execution_count": 53,
     "metadata": {},
     "output_type": "execute_result"
    }
   ],
   "source": [
    "# Area influencia a 1 minuto andando\n",
    "\n",
    "Tiempo_andando = 1\n",
    "area_colegio = '\\\\Área_colegio_'+str(Tiempo_andando)+'_min'\n",
    "#####################################\n",
    "\n",
    "# Añadimos el servicio de Áreas\n",
    "Área_de_Influencia = arcpy.na.MakeServiceAreaAnalysisLayer(\n",
    "    network_data_source=r\"C:\\Users\\aaron.benchiheub\\OneDrive - ESRI ESPAÑA Soluciones Geoespaciales S.L\\Documentos\\ArcGIS\\Packages\\Spain_972783\\p14\\europe.geodatabase\\main.Routing\\main.Routing_ND\",\n",
    "    layer_name=\"Área_de_Influencia\",\n",
    "    travel_mode=\"Walking Time\", #Driving time, Driving Distance, Walking Time, Walking Distance, Rural Driving Distance, Rural Driving Time, Trucking Distance, Trucking Time\n",
    "    travel_direction=\"FROM_FACILITIES\",\n",
    "    cutoffs=[Tiempo_andando],# Timpo \n",
    "    time_of_day=None,\n",
    "    time_zone=\"LOCAL_TIME_AT_LOCATIONS\",\n",
    "    output_type=\"POLYGONS\",\n",
    "    polygon_detail=\"STANDARD\",\n",
    "    geometry_at_overlaps=\"OVERLAP\",\n",
    "    geometry_at_cutoffs=\"RINGS\",\n",
    "    polygon_trim_distance=\"100 Meters\",\n",
    "    exclude_sources_from_polygon_generation=None,\n",
    "    accumulate_attributes=None,\n",
    "    ignore_invalid_locations=\"SKIP\"\n",
    ")\n",
    "\n",
    "# Añadimos los colegios al servicio \n",
    "arcpy.na.AddLocations(\n",
    "    in_network_analysis_layer=\"Área_de_Influencia\",\n",
    "    sub_layer=\"Instalaciones\",\n",
    "    in_table=\"Colegios\",\n",
    "    field_mappings=\"Name # #;CurbApproach # 0;Attr_Minutes # 0;Attr_TravelTime # 0;Attr_Miles # 0;Attr_Kilometers # 0;Attr_TimeAt1KPH # 0;Attr_WalkTime # 0;Attr_TruckMinutes # 0;Attr_TruckTravelTime # 0;Breaks_Minutes # #;Breaks_TravelTime # #;Breaks_Miles # #;Breaks_Kilometers # #;Breaks_TimeAt1KPH # #;Breaks_WalkTime # #;Breaks_TruckMinutes # #;Breaks_TruckTravelTime # #\",\n",
    "    search_tolerance=\"5000 Meters\",\n",
    "    sort_field=None,\n",
    "    search_criteria=\"main.Routing_Streets SHAPE;main.Custom_Streets SHAPE;main.Routing_Streets_Override NONE;main.Custom_Streets_Override SHAPE;main.Routing_ND_Junctions NONE\",\n",
    "    match_type=\"MATCH_TO_CLOSEST\",\n",
    "    append=\"APPEND\",\n",
    "    snap_to_position_along_network=\"NO_SNAP\",\n",
    "    snap_offset=\"5 Meters\",\n",
    "    exclude_restricted_elements=\"EXCLUDE\",\n",
    "    search_query=None,\n",
    "    allow_auto_relocate=None\n",
    ")\n",
    "\n",
    "# Resolvemos \n",
    "arcpy.na.Solve(\n",
    "    in_network_analysis_layer=\"Área_de_Influencia\",\n",
    "    ignore_invalids=\"SKIP\",\n",
    "    terminate_on_solve_error=\"TERMINATE\",\n",
    "    simplification_tolerance=None,\n",
    "    overrides=\"\"\n",
    ")\n",
    "# Exportamos la cápa de polígonos (áreas) resultante\n",
    "arcpy.conversion.ExportFeatures(\n",
    "    in_features=r\"Área_de_Influencia\\Polígonos\",\n",
    "    out_features=path_gdb + area_colegio,\n",
    "    where_clause=\"\",\n",
    "    use_field_alias_as_name=\"NOT_USE_ALIAS\",\n",
    "    field_mapping=r'FacilityID \"FacilityID\" true true true 4 Long 0 0,First,#,Área_de_Influencia\\Polígonos,FacilityID,-1,-1;Name \"Name\" true true true 1024 Text 0 0,First,#,Área_de_Influencia\\Polígonos,Name,0,1024;FromBreak \"FromBreak\" true true true 8 Double 0 0,First,#,Área_de_Influencia\\Polígonos,FromBreak,-1,-1;ToBreak \"ToBreak\" true true true 8 Double 0 0,First,#,Área_de_Influencia\\Polígonos,ToBreak,-1,-1;Shape_Length \"Shape_Length\" false true true 8 Double 0 0,First,#,Área_de_Influencia\\Polígonos,Shape_Length,-1,-1;Shape_Area \"Shape_Area\" false true true 8 Double 0 0,First,#,Área_de_Influencia\\Polígonos,Shape_Area,-1,-1',\n",
    "    sort_field=None\n",
    ")\n",
    "# Borrar servicio de cálculo de áreas de influencia\n",
    "arcpy.na.DeleteNetworkAnalysisLayer('Área_de_Influencia')"
   ]
  },
  {
   "cell_type": "code",
   "execution_count": 54,
   "id": "1f695b2a",
   "metadata": {
    "hidden": true
   },
   "outputs": [
    {
     "name": "stderr",
     "output_type": "stream",
     "text": [
      "[54]:15: FutureWarning: The frame.append method is deprecated and will be removed from pandas in a future version. Use pandas.concat instead.\n"
     ]
    },
    {
     "data": {
      "text/html": [
       "<div>\n",
       "<style scoped>\n",
       "    .dataframe tbody tr th:only-of-type {\n",
       "        vertical-align: middle;\n",
       "    }\n",
       "\n",
       "    .dataframe tbody tr th {\n",
       "        vertical-align: top;\n",
       "    }\n",
       "\n",
       "    .dataframe thead th {\n",
       "        text-align: right;\n",
       "    }\n",
       "</style>\n",
       "<table border=\"1\" class=\"dataframe\">\n",
       "  <thead>\n",
       "    <tr style=\"text-align: right;\">\n",
       "      <th></th>\n",
       "      <th>accidentes</th>\n",
       "      <th>Número</th>\n",
       "    </tr>\n",
       "  </thead>\n",
       "  <tbody>\n",
       "    <tr>\n",
       "      <th>0</th>\n",
       "      <td>Atropellos a persona Totals</td>\n",
       "      <td>12620</td>\n",
       "    </tr>\n",
       "    <tr>\n",
       "      <th>1</th>\n",
       "      <td>Atropellos_1min</td>\n",
       "      <td>4516</td>\n",
       "    </tr>\n",
       "  </tbody>\n",
       "</table>\n",
       "</div>"
      ],
      "text/plain": [
       "                    accidentes  Número\n",
       "0  Atropellos a persona Totals   12620\n",
       "1              Atropellos_1min    4516"
      ]
     },
     "execution_count": 54,
     "metadata": {},
     "output_type": "execute_result"
    }
   ],
   "source": [
    "Área_colegio_1_min = arcpy.analysis.Clip(\n",
    "    in_features=\"atropellos_persona\",\n",
    "    clip_features=\"Área_colegio_1_min\",\n",
    "    out_feature_class=r\"C:\\00_Documentos_ESRI\\99_Mis_proyectos_ArcGIS_Pro\\Análisis de Siniestralidad - Madrid\\Análisis de Siniestralidad - Madrid.gdb\\Atropellos_1min\",\n",
    "    cluster_tolerance=None\n",
    ")\n",
    "# Obtener el número de filas de la capa\n",
    "registros_totales = int(arcpy.GetCount_management(\"Atropellos_1min\").getOutput(0))\n",
    "# Nuevo registro a agregar\n",
    "nuevo_registro = {\n",
    "    \"accidentes\": \"Atropellos_1min\",\n",
    "    \"Número\": registros_totales\n",
    "}\n",
    "# Añadir el nuevo registro al DataFrame\n",
    "df = df.append(nuevo_registro, ignore_index=True)\n",
    "df"
   ]
  },
  {
   "attachments": {},
   "cell_type": "markdown",
   "id": "1f5da0e3",
   "metadata": {
    "hidden": true
   },
   "source": [
    "#### Area de influencia 2 y 3 minutos andando"
   ]
  },
  {
   "cell_type": "code",
   "execution_count": 55,
   "id": "7860c1cb",
   "metadata": {
    "hidden": true,
    "scrolled": true
   },
   "outputs": [
    {
     "name": "stderr",
     "output_type": "stream",
     "text": [
      "[55]:77: FutureWarning: The frame.append method is deprecated and will be removed from pandas in a future version. Use pandas.concat instead.\n",
      "[55]:157: FutureWarning: The frame.append method is deprecated and will be removed from pandas in a future version. Use pandas.concat instead.\n"
     ]
    },
    {
     "data": {
      "text/html": [
       "<div>\n",
       "<style scoped>\n",
       "    .dataframe tbody tr th:only-of-type {\n",
       "        vertical-align: middle;\n",
       "    }\n",
       "\n",
       "    .dataframe tbody tr th {\n",
       "        vertical-align: top;\n",
       "    }\n",
       "\n",
       "    .dataframe thead th {\n",
       "        text-align: right;\n",
       "    }\n",
       "</style>\n",
       "<table border=\"1\" class=\"dataframe\">\n",
       "  <thead>\n",
       "    <tr style=\"text-align: right;\">\n",
       "      <th></th>\n",
       "      <th>accidentes</th>\n",
       "      <th>Número</th>\n",
       "      <th>porcentaje</th>\n",
       "    </tr>\n",
       "  </thead>\n",
       "  <tbody>\n",
       "    <tr>\n",
       "      <th>0</th>\n",
       "      <td>Atropellos a persona Totals</td>\n",
       "      <td>12620</td>\n",
       "      <td>100.00</td>\n",
       "    </tr>\n",
       "    <tr>\n",
       "      <th>1</th>\n",
       "      <td>Atropellos_1min</td>\n",
       "      <td>4516</td>\n",
       "      <td>35.78</td>\n",
       "    </tr>\n",
       "    <tr>\n",
       "      <th>2</th>\n",
       "      <td>Atropellos_2min</td>\n",
       "      <td>7064</td>\n",
       "      <td>55.97</td>\n",
       "    </tr>\n",
       "    <tr>\n",
       "      <th>3</th>\n",
       "      <td>Atropellos_3min</td>\n",
       "      <td>9370</td>\n",
       "      <td>74.25</td>\n",
       "    </tr>\n",
       "  </tbody>\n",
       "</table>\n",
       "</div>"
      ],
      "text/plain": [
       "                    accidentes  Número  porcentaje\n",
       "0  Atropellos a persona Totals   12620      100.00\n",
       "1              Atropellos_1min    4516       35.78\n",
       "2              Atropellos_2min    7064       55.97\n",
       "3              Atropellos_3min    9370       74.25"
      ]
     },
     "execution_count": 55,
     "metadata": {},
     "output_type": "execute_result"
    }
   ],
   "source": [
    "# Area de influencia 2 y 3 minutos andando\n",
    "\n",
    "Tiempo_andando = 2\n",
    "area_colegio = '\\\\Área_colegio_'+str(Tiempo_andando)+'_min'\n",
    "#####################################\n",
    "\n",
    "# Añadimos el servicio de Áreas\n",
    "Área_de_Influencia = arcpy.na.MakeServiceAreaAnalysisLayer(\n",
    "    network_data_source=r\"C:\\Users\\aaron.benchiheub\\OneDrive - ESRI ESPAÑA Soluciones Geoespaciales S.L\\Documentos\\ArcGIS\\Packages\\Spain_972783\\p14\\europe.geodatabase\\main.Routing\\main.Routing_ND\",\n",
    "    layer_name=\"Área_de_Influencia\",\n",
    "    travel_mode=\"Walking Time\", #Driving time, Driving Distance, Walking Time, Walking Distance, Rural Driving Distance, Rural Driving Time, Trucking Distance, Trucking Time\n",
    "    travel_direction=\"FROM_FACILITIES\",\n",
    "    cutoffs=[Tiempo_andando],# Timpo \n",
    "    time_of_day=None,\n",
    "    time_zone=\"LOCAL_TIME_AT_LOCATIONS\",\n",
    "    output_type=\"POLYGONS\",\n",
    "    polygon_detail=\"STANDARD\",\n",
    "    geometry_at_overlaps=\"OVERLAP\",\n",
    "    geometry_at_cutoffs=\"RINGS\",\n",
    "    polygon_trim_distance=\"100 Meters\",\n",
    "    exclude_sources_from_polygon_generation=None,\n",
    "    accumulate_attributes=None,\n",
    "    ignore_invalid_locations=\"SKIP\"\n",
    ")\n",
    "\n",
    "# Añadimos los colegios al servicio \n",
    "arcpy.na.AddLocations(\n",
    "    in_network_analysis_layer=\"Área_de_Influencia\",\n",
    "    sub_layer=\"Instalaciones\",\n",
    "    in_table=\"Colegios\",\n",
    "    field_mappings=\"Name # #;CurbApproach # 0;Attr_Minutes # 0;Attr_TravelTime # 0;Attr_Miles # 0;Attr_Kilometers # 0;Attr_TimeAt1KPH # 0;Attr_WalkTime # 0;Attr_TruckMinutes # 0;Attr_TruckTravelTime # 0;Breaks_Minutes # #;Breaks_TravelTime # #;Breaks_Miles # #;Breaks_Kilometers # #;Breaks_TimeAt1KPH # #;Breaks_WalkTime # #;Breaks_TruckMinutes # #;Breaks_TruckTravelTime # #\",\n",
    "    search_tolerance=\"5000 Meters\",\n",
    "    sort_field=None,\n",
    "    search_criteria=\"main.Routing_Streets SHAPE;main.Custom_Streets SHAPE;main.Routing_Streets_Override NONE;main.Custom_Streets_Override SHAPE;main.Routing_ND_Junctions NONE\",\n",
    "    match_type=\"MATCH_TO_CLOSEST\",\n",
    "    append=\"APPEND\",\n",
    "    snap_to_position_along_network=\"NO_SNAP\",\n",
    "    snap_offset=\"5 Meters\",\n",
    "    exclude_restricted_elements=\"EXCLUDE\",\n",
    "    search_query=None,\n",
    "    allow_auto_relocate=None\n",
    ")\n",
    "\n",
    "# Resolvemos \n",
    "arcpy.na.Solve(\n",
    "    in_network_analysis_layer=\"Área_de_Influencia\",\n",
    "    ignore_invalids=\"SKIP\",\n",
    "    terminate_on_solve_error=\"TERMINATE\",\n",
    "    simplification_tolerance=None,\n",
    "    overrides=\"\"\n",
    ")\n",
    "# Exportamos la cápa de polígonos (áreas) resultante\n",
    "arcpy.conversion.ExportFeatures(\n",
    "    in_features=r\"Área_de_Influencia\\Polígonos\",\n",
    "    out_features=path_gdb + area_colegio,\n",
    "    where_clause=\"\",\n",
    "    use_field_alias_as_name=\"NOT_USE_ALIAS\",\n",
    "    field_mapping=r'FacilityID \"FacilityID\" true true true 4 Long 0 0,First,#,Área_de_Influencia\\Polígonos,FacilityID,-1,-1;Name \"Name\" true true true 1024 Text 0 0,First,#,Área_de_Influencia\\Polígonos,Name,0,1024;FromBreak \"FromBreak\" true true true 8 Double 0 0,First,#,Área_de_Influencia\\Polígonos,FromBreak,-1,-1;ToBreak \"ToBreak\" true true true 8 Double 0 0,First,#,Área_de_Influencia\\Polígonos,ToBreak,-1,-1;Shape_Length \"Shape_Length\" false true true 8 Double 0 0,First,#,Área_de_Influencia\\Polígonos,Shape_Length,-1,-1;Shape_Area \"Shape_Area\" false true true 8 Double 0 0,First,#,Área_de_Influencia\\Polígonos,Shape_Area,-1,-1',\n",
    "    sort_field=None\n",
    ")\n",
    "# Borrar servicio de cálculo de áreas de influencia\n",
    "arcpy.na.DeleteNetworkAnalysisLayer('Área_de_Influencia')\n",
    "\n",
    "\n",
    "Área_colegio_2_min = arcpy.analysis.Clip(\n",
    "    in_features=\"atropellos_persona\",\n",
    "    clip_features=\"Área_colegio_2_min\",\n",
    "    out_feature_class=r\"C:\\00_Documentos_ESRI\\99_Mis_proyectos_ArcGIS_Pro\\Análisis de Siniestralidad - Madrid\\Análisis de Siniestralidad - Madrid.gdb\\Atropellos_2min\",\n",
    "    cluster_tolerance=None\n",
    ")\n",
    "# Obtener el número de filas de la capa\n",
    "registros_totales = int(arcpy.GetCount_management(\"Atropellos_2min\").getOutput(0))\n",
    "# Nuevo registro a agregar\n",
    "nuevo_registro = {\n",
    "    \"accidentes\": \"Atropellos_2min\",\n",
    "    \"Número\": registros_totales\n",
    "}\n",
    "# Añadir el nuevo registro al DataFrame\n",
    "df = df.append(nuevo_registro, ignore_index=True)\n",
    "\n",
    "##############################\n",
    "##############################\n",
    "\n",
    "Tiempo_andando = 3\n",
    "area_colegio = '\\\\Área_colegio_'+str(Tiempo_andando)+'_min'\n",
    "#####################################\n",
    "\n",
    "# Añadimos el servicio de Áreas\n",
    "Área_de_Influencia = arcpy.na.MakeServiceAreaAnalysisLayer(\n",
    "    network_data_source=r\"C:\\Users\\aaron.benchiheub\\OneDrive - ESRI ESPAÑA Soluciones Geoespaciales S.L\\Documentos\\ArcGIS\\Packages\\Spain_972783\\p14\\europe.geodatabase\\main.Routing\\main.Routing_ND\",\n",
    "    layer_name=\"Área_de_Influencia\",\n",
    "    travel_mode=\"Walking Time\", #Driving time, Driving Distance, Walking Time, Walking Distance, Rural Driving Distance, Rural Driving Time, Trucking Distance, Trucking Time\n",
    "    travel_direction=\"FROM_FACILITIES\",\n",
    "    cutoffs=[Tiempo_andando],# Timpo \n",
    "    time_of_day=None,\n",
    "    time_zone=\"LOCAL_TIME_AT_LOCATIONS\",\n",
    "    output_type=\"POLYGONS\",\n",
    "    polygon_detail=\"STANDARD\",\n",
    "    geometry_at_overlaps=\"OVERLAP\",\n",
    "    geometry_at_cutoffs=\"RINGS\",\n",
    "    polygon_trim_distance=\"100 Meters\",\n",
    "    exclude_sources_from_polygon_generation=None,\n",
    "    accumulate_attributes=None,\n",
    "    ignore_invalid_locations=\"SKIP\"\n",
    ")\n",
    "\n",
    "# Añadimos los colegios al servicio \n",
    "arcpy.na.AddLocations(\n",
    "    in_network_analysis_layer=\"Área_de_Influencia\",\n",
    "    sub_layer=\"Instalaciones\",\n",
    "    in_table=\"Colegios\",\n",
    "    field_mappings=\"Name # #;CurbApproach # 0;Attr_Minutes # 0;Attr_TravelTime # 0;Attr_Miles # 0;Attr_Kilometers # 0;Attr_TimeAt1KPH # 0;Attr_WalkTime # 0;Attr_TruckMinutes # 0;Attr_TruckTravelTime # 0;Breaks_Minutes # #;Breaks_TravelTime # #;Breaks_Miles # #;Breaks_Kilometers # #;Breaks_TimeAt1KPH # #;Breaks_WalkTime # #;Breaks_TruckMinutes # #;Breaks_TruckTravelTime # #\",\n",
    "    search_tolerance=\"5000 Meters\",\n",
    "    sort_field=None,\n",
    "    search_criteria=\"main.Routing_Streets SHAPE;main.Custom_Streets SHAPE;main.Routing_Streets_Override NONE;main.Custom_Streets_Override SHAPE;main.Routing_ND_Junctions NONE\",\n",
    "    match_type=\"MATCH_TO_CLOSEST\",\n",
    "    append=\"APPEND\",\n",
    "    snap_to_position_along_network=\"NO_SNAP\",\n",
    "    snap_offset=\"5 Meters\",\n",
    "    exclude_restricted_elements=\"EXCLUDE\",\n",
    "    search_query=None,\n",
    "    allow_auto_relocate=None\n",
    ")\n",
    "\n",
    "# Resolvemos \n",
    "arcpy.na.Solve(\n",
    "    in_network_analysis_layer=\"Área_de_Influencia\",\n",
    "    ignore_invalids=\"SKIP\",\n",
    "    terminate_on_solve_error=\"TERMINATE\",\n",
    "    simplification_tolerance=None,\n",
    "    overrides=\"\"\n",
    ")\n",
    "# Exportamos la cápa de polígonos (áreas) resultante\n",
    "arcpy.conversion.ExportFeatures(\n",
    "    in_features=r\"Área_de_Influencia\\Polígonos\",\n",
    "    out_features=path_gdb + area_colegio,\n",
    "    where_clause=\"\",\n",
    "    use_field_alias_as_name=\"NOT_USE_ALIAS\",\n",
    "    field_mapping=r'FacilityID \"FacilityID\" true true true 4 Long 0 0,First,#,Área_de_Influencia\\Polígonos,FacilityID,-1,-1;Name \"Name\" true true true 1024 Text 0 0,First,#,Área_de_Influencia\\Polígonos,Name,0,1024;FromBreak \"FromBreak\" true true true 8 Double 0 0,First,#,Área_de_Influencia\\Polígonos,FromBreak,-1,-1;ToBreak \"ToBreak\" true true true 8 Double 0 0,First,#,Área_de_Influencia\\Polígonos,ToBreak,-1,-1;Shape_Length \"Shape_Length\" false true true 8 Double 0 0,First,#,Área_de_Influencia\\Polígonos,Shape_Length,-1,-1;Shape_Area \"Shape_Area\" false true true 8 Double 0 0,First,#,Área_de_Influencia\\Polígonos,Shape_Area,-1,-1',\n",
    "    sort_field=None\n",
    ")\n",
    "# Borrar servicio de cálculo de áreas de influencia\n",
    "arcpy.na.DeleteNetworkAnalysisLayer('Área_de_Influencia')\n",
    "\n",
    "Área_colegio_3_min = arcpy.analysis.Clip(\n",
    "    in_features=\"atropellos_persona\",\n",
    "    clip_features=\"Área_colegio_3_min\",\n",
    "    out_feature_class=r\"C:\\00_Documentos_ESRI\\99_Mis_proyectos_ArcGIS_Pro\\Análisis de Siniestralidad - Madrid\\Análisis de Siniestralidad - Madrid.gdb\\Atropellos_3min\",\n",
    "    cluster_tolerance=None\n",
    ")\n",
    "# Obtener el número de filas de la capa\n",
    "registros_totales = int(arcpy.GetCount_management(\"Atropellos_3min\").getOutput(0))\n",
    "# Nuevo registro a agregar\n",
    "nuevo_registro = {\n",
    "    \"accidentes\": \"Atropellos_3min\",\n",
    "    \"Número\": registros_totales\n",
    "}\n",
    "# Añadir el nuevo registro al DataFrame\n",
    "df = df.append(nuevo_registro, ignore_index=True)\n",
    "# Calcular el porcentaje en relación a \"Atropellos a persona Totals\"\n",
    "df[\"porcentaje\"] = round(df[\"Número\"] / df.loc[0, \"Número\"] * 100, 2)\n",
    "df\n"
   ]
  },
  {
   "attachments": {},
   "cell_type": "markdown",
   "id": "817e28c8",
   "metadata": {
    "hidden": true
   },
   "source": [
    "#### Resulstaos Area de influencia 1, 2 y 3 minutos andando"
   ]
  },
  {
   "cell_type": "code",
   "execution_count": 322,
   "id": "1636cace",
   "metadata": {
    "hidden": true
   },
   "outputs": [
    {
     "data": {
      "image/png": "[encoded data removed]",
      "text/plain": [
       "<Figure size 1200x500 with 1 Axes>"
      ]
     },
     "metadata": {},
     "output_type": "display_data"
    }
   ],
   "source": [
    "# Gráfico de barras\n",
    "ax = df.plot(x=\"accidentes\", y=\"porcentaje\", kind=\"bar\", color=\"#35b6ff\", figsize=(12, 5))\n",
    "\n",
    "# Añadir las etiquetas de porcentaje\n",
    "for p in ax.patches:\n",
    "    percentage = f\"{p.get_height():.1f}%\"\n",
    "    x = p.get_x() + p.get_width() / 2\n",
    "    y = p.get_height()\n",
    "    ax.annotate(percentage, (x, y), ha=\"center\", va=\"bottom\")\n",
    "\n",
    "# Estilo gráfico\n",
    "plt.xticks(rotation=0)  # No rotar las etiquetas del eje x\n",
    "plt.tight_layout()  # Ajustar el espacio entre los elementos del gráfico\n",
    "plt.title(\"Porcentaje de accidentes por tipo\", fontsize=12)\n",
    "plt.xlabel(\"Tipo de accidente\", fontsize=9, fontweight=\"bold\")\n",
    "plt.ylabel(\"Porcentaje de Accidentes\", fontsize=9, fontweight=\"bold\")\n",
    "plt.grid(axis=\"y\", color=\"gray\", linestyle=\":\", linewidth=0.5)\n",
    "\n",
    "ax.tick_params(axis=\"x\", which=\"both\", bottom=False, top=False)\n",
    "ax.spines[\"top\"].set_visible(False)\n",
    "ax.spines[\"right\"].set_visible(False)\n",
    "ax.spines[\"left\"].set_visible(False)\n",
    "\n",
    "plt.show()  # Mostrar el gráfico\n",
    "\n"
   ]
  },
  {
   "attachments": {},
   "cell_type": "markdown",
   "id": "e8b02acd",
   "metadata": {
    "hidden": true
   },
   "source": [
    "##### Borrar capas"
   ]
  },
  {
   "cell_type": "raw",
   "id": "ebc89fc9",
   "metadata": {
    "hidden": true
   },
   "source": [
    "# Ver todas las capas\n",
    "capas = arcpy.mp.ArcGISProject(\"CURRENT\").listMaps()[0].listLayers()\n",
    "nombres_capas_a_eliminar = []\n",
    "for capa in capas:\n",
    "    nombres_capas_a_eliminar.append(capa.name)\n",
    "    print(capa.name)\n",
    "\n",
    "# Lista de nombres de capas a eliminar\n",
    "nombres_capas_a_eliminar = [capa for capa in nombres_capas_a_eliminar if capa not in ['Referencia gris clara', \n",
    "                                                                                      'Base gris clara', \n",
    "                                                                                      'Routing_ND']]\n",
    "\n",
    "# Eliminar las capas\n",
    "for capa in capas:\n",
    "    if capa.name in nombres_capas_a_eliminar:\n",
    "        mapa.removeLayer(capa)"
   ]
  },
  {
   "attachments": {},
   "cell_type": "markdown",
   "id": "a35c1e46",
   "metadata": {},
   "source": [
    "# Análisis predictivo - Modelo"
   ]
  },
  {
   "attachments": {},
   "cell_type": "markdown",
   "id": "1fd4727d",
   "metadata": {},
   "source": [
    "<div style=\"text-align:center\">\n",
    "    <img src=\"./assets/Modeling_data.png\" alt=\"drawing\" width=\"200\"/>\n",
    "</div>\n"
   ]
  },
  {
   "attachments": {},
   "cell_type": "markdown",
   "id": "e03b4770",
   "metadata": {},
   "source": [
    "## Cubos espacio-temporales | Análisis de puntos calientes emergentes con "
   ]
  },
  {
   "attachments": {},
   "cell_type": "markdown",
   "id": "ddb7fcc4",
   "metadata": {},
   "source": [
    "<div style=\"text-align:center\">\n",
    "<a href=\"https://pro.arcgis.com/en/pro-app/latest/tool-reference/space-time-pattern-mining/emerginghotspots.htm\">Emerging Hot Spot Analysis (Space Time Pattern Mining)</a>\n",
    "\n",
    "<img src=\"https://pro.arcgis.com/en/pro-app/latest/tool-reference/space-time-pattern-mining/GUID-3FE51525-E732-4FAB-80E2-71B866BECE61-web.png\" alt=\"drawing\" width=\"200\"/>\n",
    "<img src=\"https://pro.arcgis.com/en/pro-app/latest/tool-reference/space-time-pattern-mining/GUID-0FEECE1A-6B54-44B4-AE49-05E7EA849A8B-web.png\" alt=\"drawing\" width=\"200\"/>\n",
    "<img src=\"https://pro.arcgis.com/en/pro-app/latest/tool-reference/space-time-pattern-mining/GUID-42A31756-6518-41E9-A900-2C892AF4023A-web.png\" alt=\"drawing\" width=\"200\"/>\n",
    "</div>\n"
   ]
  },
  {
   "attachments": {},
   "cell_type": "markdown",
   "id": "94da1de9",
   "metadata": {},
   "source": [
    "Agregamos el códico de barrio a la capa de puntos **'COD_BAR'**"
   ]
  },
  {
   "cell_type": "code",
   "execution_count": 58,
   "id": "b653874e",
   "metadata": {},
   "outputs": [],
   "source": [
    "Barrios = arcpy.management.CopyFeatures(r'C:\\00_Documentos_ESRI\\99_Mis_proyectos_ArcGIS_Pro\\Análisis de Siniestralidad - Madrid\\datos\\Shapefile\\Barrios_Madrid\\Barrios.shp', 'Barrios')\n",
    "#puntos_accidentes = arcpy.management.CopyFeatures(r'C:\\00_Documentos_ESRI\\99_Mis_proyectos_ArcGIS_Pro\\Análisis de Siniestralidad - Madrid\\datos\\outputs\\puntos_accidentes.shp', 'puntos_accidentes')"
   ]
  },
  {
   "attachments": {},
   "cell_type": "markdown",
   "id": "355ec864",
   "metadata": {},
   "source": [
    "### Visialización en 2 D"
   ]
  },
  {
   "cell_type": "code",
   "execution_count": 59,
   "id": "ac33c94f",
   "metadata": {},
   "outputs": [
    {
     "data": {
      "text/html": [
       "<div class='gpresult'><h2>Messages</h2><div id='messages' data-messages='[\"Tiempo de Inicio: lunes, 19 de junio de 2023 13:21:41\",\"Completado correctamente el lunes, 19 de junio de 2023 13:22:05 (Tiempo transcurrido: 23,41 segundos)\"]' data-show='true'><div id = 'default' /></div></div>"
      ],
      "text/plain": [
       "<Result 'C:\\\\00_Documentos_ESRI\\\\99_Mis_proyectos_ArcGIS_Pro\\\\Análisis de Siniestralidad - Madrid\\\\datos\\\\outputs\\\\puntos_accidentes_COD_barrios.shp'>"
      ]
     },
     "execution_count": 59,
     "metadata": {},
     "output_type": "execute_result"
    }
   ],
   "source": [
    "# Agregación de barrios en puntos\n",
    "arcpy.analysis.SpatialJoin(\n",
    "    target_features=\"puntos_accidentes\",\n",
    "    join_features=\"Barrios\",\n",
    "    out_feature_class=r\"C:\\00_Documentos_ESRI\\99_Mis_proyectos_ArcGIS_Pro\\Análisis de Siniestralidad - Madrid\\datos\\outputs\\puntos_accidentes_COD_barrios.shp\",\n",
    "    join_operation=\"JOIN_ONE_TO_ONE\",\n",
    "    join_type=\"KEEP_ALL\",\n",
    "    field_mapping=None,\n",
    "    match_option=\"INTERSECT\",\n",
    "    search_radius=None,\n",
    "    distance_field_name=\"\"\n",
    ")\n"
   ]
  },
  {
   "cell_type": "code",
   "execution_count": 61,
   "id": "4ebc0bf1",
   "metadata": {
    "scrolled": true
   },
   "outputs": [
    {
     "data": {
      "text/html": [
       "<div class='gpresult'><h2>Messages</h2><div id='messages' data-messages='[\"Tiempo de Inicio: lunes, 19 de junio de 2023 13:24:15\",\"WARNING 110020: La distancia de vecindad predeterminada es 1312,150442 metros.\",\"\",[{\"element\":\"table\",\"data\":[[\"Intervalo de distancia\",\"317 metros\"],[\"Intervalo de período de tiempo\",\"3 weeks\"],[\"\",\"\"],[\"Tipo de forma de agregación\",\"Hexagon Grid\"],[\"\",\"\"],[\"Sesgo temporal del primer período de tiempo\",\"76,19%\"],[{\"data\":\"Primer intervalo de período de tiempo\",\"prop\":{\"rowspan\":4}},\"después de\"],[{\"data\":\"2018-12-16 00:00:00\",\"prop\":{\"text-align\":\"right\"}}],[{\"data\":\"hasta o antes de\",\"prop\":{\"text-align\":\"right\"}}],[{\"data\":\"2019-01-06 00:00:00\",\"prop\":{\"text-align\":\"right\"}}],[\"\",\"\"],[\"Sesgo temporal del último período de tiempo\",\"0,00%\"],[{\"data\":\"Último intervalo de período de tiempo\",\"prop\":{\"rowspan\":4}},\"después de\"],[{\"data\":\"2023-04-09 00:00:00\",\"prop\":{\"text-align\":\"right\"}}],[{\"data\":\"hasta o antes de\",\"prop\":{\"text-align\":\"right\"}}],[{\"data\":\"2023-04-30 00:00:00\",\"prop\":{\"text-align\":\"right\"}}],[\"\",\"\"],[\"Número de períodos de tiempo\",\"76\"],[\"Número de ubicaciones analizadas\",\"3028\"],[\"Número de bins de espacio-tiempo analizados\",\"230128\"],[\"% distinto de cero\",\"23,51%\"]],\"elementProps\":{\"striped\":\"true\",\"noHeader\":true,\"title\":\"Detalles de cubo de espacio-tiempo de entrada\",\"0\":{\"align\":\"left\",\"pad\":\"0px\",\"wrap\":true},\"1\":{\"align\":\"right\",\"pad\":\"0px\",\"wrap\":true}}}],[{\"element\":\"table\",\"data\":[[\"Distancia de vecindad\",\"1312,150442 metros\"],[\"Intervalos de período de tiempo de vecindad\",\"1 (expandiendo 3 weeks)\"]],\"elementProps\":{\"striped\":\"true\",\"noHeader\":true,\"title\":\"Detalles del análisis\",\"0\":{\"align\":\"left\",\"pad\":\"0px\",\"wrap\":true},\"1\":{\"align\":\"right\",\"pad\":\"0px\",\"wrap\":true}}}],[{\"element\":\"table\",\"data\":[[\"\",\"CALIENTE\",\"FRÍO\"],[\"Nuevo\",\"27\",\"0\"],[\"Consecutiva\",\"0\",\"0\"],[\"En aumento\",\"51\",\"19\"],[\"Persistente\",\"300\",\"305\"],[\"En disminución\",\"0\",\"102\"],[\"Esporádico\",\"0\",\"382\"],[\"Oscilante\",\"589\",\"2\"],[\"Historical\",\"0\",\"35\"]],\"elementProps\":{\"striped\":\"true\",\"footnote\":[\"Todas las ubicaciones con tendencias de puntos calientes o fríos: 1812 de 3028\"],\"title\":\"Resumen de resultados\",\"0\":{\"align\":\"left\",\"pad\":\"0px\",\"wrap\":true},\"1\":{\"align\":\"right\",\"pad\":\"0px\",\"wrap\":true},\"2\":{\"align\":\"right\",\"pad\":\"0px\",\"wrap\":true}}}],{\"element\":\"h5\",\"data\":\"Definiciones de categoría\"},{\"element\":\"content\",\"data\":\"El último período de tiempo es caliente:\"},{\"element\":\"unorderedlist\",\"data\":[\"Nuevo: el intervalo de período de tiempo más reciente es caliente por primera vez\",\"Consecutiva: una única ejecución ininterrumpida de intervalos de períodos de tiempo calientes, con menos del 90% del total\",\"En aumento: al menos el 90% de los intervalos de períodos de tiempo son calientes y cada vez son más calientes a medida que pasa el tiempo\",\"Persistente: al menos el 90% de los intervalos de períodos de tiempo son calientes, sin tendencia a aumentar ni a disminuir\",\"En disminución: al menos el 90% de los intervalos de períodos de tiempo son calientes y cada vez son menos calientes a medida que pasa el tiempo\",\"Esporádico: algunos de los intervalos de períodos de tiempo son calientes\",\"Oscilante: algunos de los intervalos de períodos de tiempo son calientes y otros son fríos\"]},{\"element\":\"content\",\"data\":\"El último período de tiempo no es caliente:\"},{\"element\":\"unorderedlist\",\"data\":[\"Histórico: al menos el 90% de los intervalos de períodos de tiempo son calientes, pero no lo es el intervalo de períodos de tiempo más reciente\"]},{\"element\":\"content\",\"data\":\"El último período de tiempo es frío:\"},{\"element\":\"unorderedlist\",\"data\":[\"Nuevo: el intervalo de período de tiempo más reciente es frío por primera vez\",\"Consecutiva: una única ejecución ininterrumpida de intervalos de períodos de tiempo fríos, con menos del 90% del total\",\"En aumento: al menos el 90% de los intervalos de períodos de tiempo son fríos y cada vez son más fríos a medida que pasa el tiempo\",\"Persistente: al menos el 90% de los intervalos de períodos de tiempo son fríos, sin tendencia a aumentar ni a disminuir\",\"En disminución: al menos el 90% de los intervalos de períodos de tiempo son fríos y cada vez son menos fríos a medida que pasan los intervalos de tiempo\",\"Esporádico: algunos de los intervalos de períodos de tiempo son fríos\",\"Oscilante: algunos de los intervalos de períodos de tiempo son fríos y otros son calientes\"]},{\"element\":\"content\",\"data\":\"El último período de tiempo no es frío:\"},{\"element\":\"unorderedlist\",\"data\":[\"Histórico: al menos el 90% de los intervalos de períodos de tiempo son fríos, pero no lo es el intervalo de períodos de tiempo más reciente\"]},\"\\n\\n\\n\\n\\n\\n\\n\\n\\n\",\"Completado correctamente el lunes, 19 de junio de 2023 13:24:20 (Tiempo transcurrido: 4,64 segundos)\"]' data-show='true'><div id = 'default' /></div></div>"
      ],
      "text/plain": [
       "<Result 'C:\\\\00_Documentos_ESRI\\\\99_Mis_proyectos_ArcGIS_Pro\\\\Análisis de Siniestralidad - Madrid\\\\datos\\\\outputs\\\\cubos_espacio_temporales\\\\EmergingHotSpot_2d.shp'>"
      ]
     },
     "execution_count": 61,
     "metadata": {},
     "output_type": "execute_result"
    }
   ],
   "source": [
    "# Configuración de la herramientea cubo espacio temporales\n",
    "cubo_accidentes = '\\\\cubo_accidentes.nc'\n",
    "ruta = '\\\\datos\\\\outputs\\\\cubos_espacio_temporales'\n",
    "path_gdb = r\"C:\\00_Documentos_ESRI\\99_Mis_proyectos_ArcGIS_Pro\\Análisis de Siniestralidad - Madrid\"\n",
    "\n",
    "############################################################\n",
    "\n",
    "arcpy.stpm.CreateSpaceTimeCube(\n",
    "    in_features=\"puntos_accidentes_COD_barrios\",\n",
    "    output_cube = path_gdb + ruta + cubo_accidentes,\n",
    "    time_field=\"fecha\",\n",
    "    template_cube=None,\n",
    "    time_step_interval=None,\n",
    "    time_step_alignment=\"END_TIME\",\n",
    "    reference_time=None,\n",
    "    distance_interval=None,\n",
    "    summary_fields=None,\n",
    "    aggregation_shape_type=\"HEXAGON_GRID\",\n",
    "    defined_polygon_locations=None,\n",
    "    location_id=None\n",
    ")\n",
    "\n",
    "EmergingHotSpot_2d = '\\\\EmergingHotSpot_2d'\n",
    "###########################################\n",
    "\n",
    "arcpy.stpm.EmergingHotSpotAnalysis(\n",
    "    in_cube = path_gdb + ruta + cubo_accidentes,\n",
    "    analysis_variable=\"COUNT\",\n",
    "    output_features=path_gdb + ruta + EmergingHotSpot_2d,\n",
    "    neighborhood_distance=None,\n",
    "    neighborhood_time_step=1,\n",
    "    polygon_mask=None,\n",
    "    conceptualization_of_spatial_relationships=\"FIXED_DISTANCE\",\n",
    "    number_of_neighbors=None,\n",
    "    define_global_window=\"ENTIRE_CUBE\"\n",
    ")"
   ]
  },
  {
   "attachments": {},
   "cell_type": "markdown",
   "id": "c78a3fca",
   "metadata": {},
   "source": [
    "### Visialización en 3 D"
   ]
  },
  {
   "cell_type": "code",
   "execution_count": 62,
   "id": "f07287b9",
   "metadata": {},
   "outputs": [
    {
     "data": {
      "text/html": [
       "<div class='gpresult'><h2>Messages</h2><div id='messages' data-messages='[\"Tiempo de Inicio: lunes, 19 de junio de 2023 13:25:20\",\"WARNING 110044: El tiempo que se tarda en obtener el cubo en tres dimensiones puede variar considerablemente según el número de entidades y la tarjeta gráfica asociada a su CPU.\",\"WARNING 110054: Si alguno de los datos no se dibuja, es posible que esté fuera de los límites del rango de visibilidad, que se pueden borrar. Si alguno de los datos queda bajo tierra, es posible que necesite desactivar las superficies de elevación.\",\"Completado correctamente el lunes, 19 de junio de 2023 13:26:03 (Tiempo transcurrido: 42,51 segundos)\"]' data-show='true'><div id = 'default' /></div></div>"
      ],
      "text/plain": [
       "<Result 'C:\\\\00_Documentos_ESRI\\\\99_Mis_proyectos_ArcGIS_Pro\\\\Análisis de Siniestralidad - Madrid\\\\datos\\\\outputs\\\\cubos_espacio_temporales\\\\EmergingHotSpot_3d.shp'>"
      ]
     },
     "execution_count": 62,
     "metadata": {},
     "output_type": "execute_result"
    }
   ],
   "source": [
    "EmergingHotSpot_3d = '\\\\EmergingHotSpot_3d'\n",
    "###########################################\n",
    "\n",
    "arcpy.stpm.VisualizeSpaceTimeCube3D(\n",
    "    in_cube=path_gdb + ruta + cubo_accidentes,\n",
    "    cube_variable=\"COUNT\",\n",
    "    display_theme=\"HOT_AND_COLD_SPOT_RESULTS\",\n",
    "    output_features=path_gdb + ruta + EmergingHotSpot_3d\n",
    ")"
   ]
  },
  {
   "attachments": {},
   "cell_type": "markdown",
   "id": "e95eddbc",
   "metadata": {},
   "source": [
    "## Serie temporal"
   ]
  },
  {
   "attachments": {},
   "cell_type": "markdown",
   "id": "c4576593",
   "metadata": {},
   "source": [
    "\n",
    "Descomponemos la agregación de accientes en barrios y de forma temporal. Basado en los cubos espacio temporales"
   ]
  },
  {
   "attachments": {},
   "cell_type": "markdown",
   "id": "42e72739",
   "metadata": {},
   "source": [
    "<div style=\"text-align:center\">\n",
    "<a href=\"https://pro.arcgis.com/en/pro-app/latest/tool-reference/space-time-pattern-mining/exponentialsmoothingforecast.htm\">Exponential Smoothing Forecast (Space Time Pattern Mining)</a>\n",
    "\n",
    "<img src=\"https://pro.arcgis.com/en/pro-app/latest/tool-reference/space-time-pattern-mining/GUID-DFD83A2B-94FB-4369-9485-5424D5351D60-web.png\" alt=\"drawing\" width=\"400\"/>\n",
    "</div>\n"
   ]
  },
  {
   "attachments": {},
   "cell_type": "markdown",
   "id": "31d71a6b",
   "metadata": {},
   "source": [
    "### Serie temporal por barrios"
   ]
  },
  {
   "cell_type": "code",
   "execution_count": 63,
   "id": "14c23d75",
   "metadata": {},
   "outputs": [
    {
     "data": {
      "text/html": [
       "<div class='gpresult'><h2>Messages</h2><div id='messages' data-messages='[\"Tiempo de Inicio: lunes, 19 de junio de 2023 13:27:29\",\"Completado correctamente el lunes, 19 de junio de 2023 13:27:31 (Tiempo transcurrido: 1,99 segundos)\"]' data-show='true'><div id = 'default' /></div></div>"
      ],
      "text/plain": [
       "<Result 'C:\\\\00_Documentos_ESRI\\\\99_Mis_proyectos_ArcGIS_Pro\\\\Análisis de Siniestralidad - Madrid\\\\datos\\\\outputs\\\\cubos_espacio_temporales\\\\serie_tiempo_por_barrios.gdb\\\\serie_tiempo_por_barrios'>"
      ]
     },
     "execution_count": 63,
     "metadata": {},
     "output_type": "execute_result"
    }
   ],
   "source": [
    "# Cubo espaciotemporal barrios\n",
    "arcpy.stpm.CreateSpaceTimeCubeDefinedLocations(\n",
    "    in_features=\"Barrios\",\n",
    "    output_cube=r\"C:\\00_Documentos_ESRI\\99_Mis_proyectos_ArcGIS_Pro\\Análisis de Siniestralidad - Madrid\\datos\\outputs\\cubos_espacio_temporales\\cubo_serie_barrios.nc\",\n",
    "    location_id=\"COD_BAR\",\n",
    "    temporal_aggregation=\"APPLY_TEMPORAL_AGGREGATION\",\n",
    "    time_field=\"fecha\",\n",
    "    time_step_interval=\"1 Months\",\n",
    "    time_step_alignment=\"END_TIME\",\n",
    "    reference_time=None,\n",
    "    variables=None,\n",
    "    summary_fields=\"Join_Count SUM ZEROS\",\n",
    "    in_related_table=\"puntos_accidentes_COD_barrios\",\n",
    "    related_location_id=\"COD_BAR\"\n",
    ")\n",
    "\n",
    "# Serie de tiempo por barrios\n",
    "arcpy.stpm.VisualizeSpaceTimeCube2D(\n",
    "    in_cube=r\"C:\\00_Documentos_ESRI\\99_Mis_proyectos_ArcGIS_Pro\\Análisis de Siniestralidad - Madrid\\datos\\outputs\\cubos_espacio_temporales\\cubo_serie_barrios.nc\",\n",
    "    cube_variable=\"JOIN_COUNT_SUM_ZEROS\",\n",
    "    display_theme=\"TRENDS\",\n",
    "    output_features=r\"C:\\00_Documentos_ESRI\\99_Mis_proyectos_ArcGIS_Pro\\Análisis de Siniestralidad - Madrid\\datos\\outputs\\cubos_espacio_temporales\\serie_tiempo_por_barrios.gdb\\serie_tiempo_por_barrios\",\n",
    "    enable_time_series_popups=\"CREATE_POPUP\"\n",
    ")"
   ]
  },
  {
   "attachments": {},
   "cell_type": "markdown",
   "id": "caf44e38",
   "metadata": {},
   "source": [
    "### Clustering serie temporal por barrios"
   ]
  },
  {
   "attachments": {},
   "cell_type": "markdown",
   "id": "fbdd5ec3",
   "metadata": {},
   "source": [
    "<div style=\"text-align:center\">\n",
    "<a href=\"https://pro.arcgis.com/en/pro-app/latest/tool-reference/space-time-pattern-mining/time-series-clustering.htm\">Time Series Clustering (Space Time Pattern Mining)</a>\n",
    "\n",
    "<img src=\"https://pro.arcgis.com/en/pro-app/latest/tool-reference/space-time-pattern-mining/GUID-78899E30-876B-410E-9592-F3A663E8B4CD-web.png\" alt=\"drawing\" width=\"400\"/>\n",
    "</div>\n"
   ]
  },
  {
   "cell_type": "code",
   "execution_count": 73,
   "id": "b0226908",
   "metadata": {},
   "outputs": [
    {
     "data": {
      "text/html": [
       "<div class='gpresult'><h2>Messages</h2><div id='messages' data-messages='[\"Tiempo de Inicio: lunes, 19 de junio de 2023 14:09:47\",{\"element\":\"unorderedlist\",\"data\":[\"La seudo estadística F para el resultado del clúster es 119,990\",\"Valor de inicialización aleatorio: 4593\"]},\"\",[{\"element\":\"table\",\"data\":[[\"Intervalo de período de tiempo\",\"1 month\"],[\"\",\"\"],[\"Tipo de forma\",\"Polígono\"],[\"\",\"\"],[\"Sesgo temporal del primer período de tiempo\",\"6,45%\"],[{\"data\":\"Primer intervalo de período de tiempo\",\"prop\":{\"rowspan\":4}},\"después de\"],[{\"data\":\"2018-12-30 00:00:00\",\"prop\":{\"text-align\":\"right\"}}],[{\"data\":\"hasta o antes de\",\"prop\":{\"text-align\":\"right\"}}],[{\"data\":\"2019-01-30 00:00:00\",\"prop\":{\"text-align\":\"right\"}}],[\"\",\"\"],[\"Sesgo temporal del último período de tiempo\",\"0,00%\"],[{\"data\":\"Último intervalo de período de tiempo\",\"prop\":{\"rowspan\":4}},\"después de\"],[{\"data\":\"2023-03-30 00:00:00\",\"prop\":{\"text-align\":\"right\"}}],[{\"data\":\"hasta o antes de\",\"prop\":{\"text-align\":\"right\"}}],[{\"data\":\"2023-04-30 00:00:00\",\"prop\":{\"text-align\":\"right\"}}],[\"\",\"\"],[\"Número de períodos de tiempo\",\"52\"],[\"Número de ubicaciones analizadas\",\"131\"],[\"Número de bins de espacio-tiempo analizados\",\"6812\"]],\"elementProps\":{\"striped\":\"true\",\"noHeader\":true,\"title\":\"Detalles de cubo de espacio-tiempo de entrada\",\"0\":{\"align\":\"left\",\"pad\":\"0px\",\"wrap\":true},\"1\":{\"align\":\"right\",\"pad\":\"0px\",\"wrap\":true}}}],[{\"element\":\"table\",\"data\":[[\"Id. de clúster\",\"Dirección\",\"Estadística\",\"valor p\"],[\"1\",\"No significativo\",\"0,8523\",\"0,3941\"],[\"2\",\"No significativo\",\"0,7342\",\"0,4628\"],[\"3\",\"No significativo\",\"0,2289\",\"0,8190\"]],\"elementProps\":{\"striped\":\"true\",\"title\":\"Estadísticas de tendencia para series temporales medias\",\"0\":{\"align\":\"left\",\"pad\":\"0px\",\"wrap\":true},\"1\":{\"align\":\"left\",\"pad\":\"0px\",\"wrap\":true},\"2\":{\"align\":\"right\",\"pad\":\"0px\",\"wrap\":true},\"3\":{\"align\":\"right\",\"pad\":\"0px\",\"wrap\":true}}}],[{\"element\":\"table\",\"data\":[[\"Id. de clúster\",\"Número de ubicaciones\"],[\"1\",\"59\"],[\"2\",\"42\"],[\"3\",\"30\"]],\"elementProps\":{\"striped\":\"true\",\"className\":\"small\",\"title\":\"Número de ubicaciones por clúster\",\"0\":{\"align\":\"left\",\"pad\":\"0px\",\"wrap\":true},\"1\":{\"align\":\"right\",\"pad\":\"0px\",\"wrap\":true}}}],\"\\n\\n\",\"Completado correctamente el lunes, 19 de junio de 2023 14:09:53 (Tiempo transcurrido: 5,85 segundos)\"]' data-show='true'><div id = 'default' /></div></div>"
      ],
      "text/plain": [
       "<Result 'C:\\\\00_Documentos_ESRI\\\\99_Mis_proyectos_ArcGIS_Pro\\\\Análisis de Siniestralidad - Madrid\\\\Análisis de Siniestralidad - Madrid.gdb\\\\cubo_barrios_serie_tiempo_TimeSeriesClustering2'>"
      ]
     },
     "execution_count": 73,
     "metadata": {},
     "output_type": "execute_result"
    }
   ],
   "source": [
    "arcpy.stpm.TimeSeriesClustering(\n",
    "    in_cube=r\"C:\\00_Documentos_ESRI\\99_Mis_proyectos_ArcGIS_Pro\\Análisis de Siniestralidad - Madrid\\datos\\outputs\\cubos_espacio_temporales\\cubo_serie_barrios.nc\",\n",
    "    analysis_variable=\"JOIN_COUNT_SUM_ZEROS\",\n",
    "    output_features=r\"C:\\00_Documentos_ESRI\\99_Mis_proyectos_ArcGIS_Pro\\Análisis de Siniestralidad - Madrid\\Análisis de Siniestralidad - Madrid.gdb\\cubo_barrios_serie_tiempo_TimeSeriesClustering2\",\n",
    "    characteristic_of_interest=\"VALUE\",\n",
    "    cluster_count=3,\n",
    "    output_table_for_charts=r\"C:\\00_Documentos_ESRI\\99_Mis_proyectos_ArcGIS_Pro\\Análisis de Siniestralidad - Madrid\\Análisis de Siniestralidad - Madrid.gdb\\tabla_cluster\",\n",
    "    shape_characteristic_to_ignore=None,\n",
    "    enable_time_series_popups=\"CREATE_POPUP\"\n",
    ")"
   ]
  },
  {
   "attachments": {},
   "cell_type": "markdown",
   "id": "4fc6b392",
   "metadata": {},
   "source": [
    "### Predicción serie temporal por barrios"
   ]
  },
  {
   "cell_type": "code",
   "execution_count": 72,
   "id": "eaa8795f",
   "metadata": {},
   "outputs": [
    {
     "data": {
      "text/html": [
       "<div class='gpresult'><h2>Messages</h2><div id='messages' data-messages='[\"Tiempo de Inicio: lunes, 19 de junio de 2023 13:32:39\",\"\",[{\"element\":\"table\",\"data\":[[\"Intervalo de período de tiempo\",\"1 month\"],[\"\",\"\"],[\"Tipo de forma\",\"Polígono\"],[\"\",\"\"],[\"Sesgo temporal del primer período de tiempo\",\"6,45%\"],[{\"data\":\"Primer intervalo de período de tiempo\",\"prop\":{\"rowspan\":4}},\"después de\"],[{\"data\":\"2018-12-30 00:00:00\",\"prop\":{\"text-align\":\"right\"}}],[{\"data\":\"hasta o antes de\",\"prop\":{\"text-align\":\"right\"}}],[{\"data\":\"2019-01-30 00:00:00\",\"prop\":{\"text-align\":\"right\"}}],[\"\",\"\"],[\"Sesgo temporal del último período de tiempo\",\"0,00%\"],[{\"data\":\"Último intervalo de período de tiempo\",\"prop\":{\"rowspan\":4}},\"después de\"],[{\"data\":\"2023-03-30 00:00:00\",\"prop\":{\"text-align\":\"right\"}}],[{\"data\":\"hasta o antes de\",\"prop\":{\"text-align\":\"right\"}}],[{\"data\":\"2023-04-30 00:00:00\",\"prop\":{\"text-align\":\"right\"}}],[\"\",\"\"],[\"Número de períodos de tiempo\",\"52\"],[\"Número de ubicaciones analizadas\",\"131\"],[\"Número de bins de espacio-tiempo analizados\",\"6812\"]],\"elementProps\":{\"striped\":\"true\",\"noHeader\":true,\"title\":\"Detalles de cubo de espacio-tiempo de entrada\",\"0\":{\"align\":\"left\",\"pad\":\"0px\",\"wrap\":true},\"1\":{\"align\":\"right\",\"pad\":\"0px\",\"wrap\":true}}}],[{\"element\":\"table\",\"data\":[[\"Cubo de espacio-tiempo de entrada\",\"Método de predicción\"],[\"cubo_serie_barrios.nc\",\"Suavizado exponencial\"],[\"\",\"\"],[\"Número de periodos de tiempo de predicción\",\"4\"],[\"Periodos de tiempo excluidos para la validación\",\"4\"],[\"% de ubicaciones modeladas con estacionalidad\",\"100,00\"],[\"Duración de estación (definida por el usuario)\",\"4\"],[\"\",\"\"],[{\"data\":\"Primer intervalo de periodo de tiempo de predicción\",\"prop\":{\"rowspan\":4}},\"después de\"],[{\"data\":\"2023-04-30 00:00:00\",\"prop\":{\"text-align\":\"right\"}}],[{\"data\":\"hasta o antes de\",\"prop\":{\"text-align\":\"right\"}}],[{\"data\":\"2023-05-30 00:00:00\",\"prop\":{\"text-align\":\"right\"}}],[\"\",\"\"],[{\"data\":\"Último intervalo de periodo de tiempo de predicción\",\"prop\":{\"rowspan\":4}},\"después de\"],[{\"data\":\"2023-07-30 00:00:00\",\"prop\":{\"text-align\":\"right\"}}],[{\"data\":\"hasta o antes de\",\"prop\":{\"text-align\":\"right\"}}],[{\"data\":\"2023-08-30 00:00:00\",\"prop\":{\"text-align\":\"right\"}}]],\"elementProps\":{\"striped\":\"true\",\"title\":\"Detalles del análisis\",\"0\":{\"align\":\"left\",\"pad\":\"0px\",\"wrap\":true},\"1\":{\"align\":\"right\",\"pad\":\"0px\",\"wrap\":true}}}],[{\"element\":\"table\",\"data\":[[\"Categoría\",\"Mín.\",\"Máx.\",\"Valor medio\",\"Mediana\",\"Desv. est.\"],[\"RMSE de predicción\",\"1,21\",\"14,02\",\"4,42\",\"4,07\",\"1,99\"],[\"RMSE de validación\",\"0,47\",\"26,06\",\"4,10\",\"3,40\",\"2,95\"]],\"elementProps\":{\"striped\":\"true\",\"title\":\"Resumen de precisión entre ubicaciones\",\"0\":{\"align\":\"left\",\"pad\":\"0px\",\"wrap\":true},\"1\":{\"align\":\"right\",\"pad\":\"0px\",\"wrap\":true},\"2\":{\"align\":\"right\",\"pad\":\"0px\",\"wrap\":true},\"3\":{\"align\":\"right\",\"pad\":\"0px\",\"wrap\":true},\"4\":{\"align\":\"right\",\"pad\":\"0px\",\"wrap\":true},\"5\":{\"align\":\"right\",\"pad\":\"0px\",\"wrap\":true}}}],\"\\n\",\"Completado correctamente el lunes, 19 de junio de 2023 13:32:45 (Tiempo transcurrido: 5,90 segundos)\"]' data-show='true'><div id = 'default' /></div></div>"
      ],
      "text/plain": [
       "<Result 'C:\\\\00_Documentos_ESRI\\\\99_Mis_proyectos_ArcGIS_Pro\\\\Análisis de Siniestralidad - Madrid\\\\Análisis de Siniestralidad - Madrid.gdb\\\\cubo_barrios_ExponentialSmoothingForecast'>"
      ]
     },
     "execution_count": 72,
     "metadata": {},
     "output_type": "execute_result"
    }
   ],
   "source": [
    "# Previsón de suavizazo exponencial\n",
    "arcpy.stpm.ExponentialSmoothingForecast(\n",
    "    in_cube=r\"C:\\00_Documentos_ESRI\\99_Mis_proyectos_ArcGIS_Pro\\Análisis de Siniestralidad - Madrid\\datos\\outputs\\cubos_espacio_temporales\\cubo_serie_barrios.nc\",\n",
    "    analysis_variable=\"JOIN_COUNT_SUM_ZEROS\",\n",
    "    output_features=r\"C:\\00_Documentos_ESRI\\99_Mis_proyectos_ArcGIS_Pro\\Análisis de Siniestralidad - Madrid\\Análisis de Siniestralidad - Madrid.gdb\\cubo_barrios_ExponentialSmoothingForecast\",\n",
    "    output_cube=r\"C:\\00_Documentos_ESRI\\99_Mis_proyectos_ArcGIS_Pro\\Análisis de Siniestralidad - Madrid\\datos\\outputs\\cubos_espacio_temporales\\cubo_barrios_serie_tiempo.nc\",\n",
    "    number_of_time_steps_to_forecast=4,\n",
    "    season_length=4,\n",
    "    number_for_validation=4,\n",
    "    outlier_option=\"NONE\",\n",
    "    level_of_confidence=\"90%\",\n",
    "    maximum_number_of_outliers=2\n",
    ")"
   ]
  },
  {
   "attachments": {},
   "cell_type": "markdown",
   "id": "734e2e15",
   "metadata": {},
   "source": [
    "# Conclusiones"
   ]
  },
  {
   "attachments": {},
   "cell_type": "markdown",
   "id": "90a1333b",
   "metadata": {},
   "source": [
    "<div style=\"text-align:center\">\n",
    "    <img src=\"./assets/conclusiones.png\"/>\n",
    "</div>"
   ]
  },
  {
   "attachments": {},
   "cell_type": "markdown",
   "id": "1e18e55f",
   "metadata": {},
   "source": [
    "<div style=\"position: relative;\">\n",
    "    <img src=\"https://www.arcgis.com/sharing/rest/content/items/10bc2a493a974d5caf024ff13d7891b3/resources/images/widget_178/1622195050113.jpg\" width=\"1100\"/>\n",
    "    <p style=\"color:white; font-size:36px; font-weight:bold; position:absolute; top:50px; left:120px;\">Análisis de Siniestralidad |</p>\n",
    "    <p style=\"color:white; font-size:20px; font-weight:bold; position:absolute; top:70px; left:580px;\">Madrid</p>\n",
    "    <p style=\"color:white; font-size:24px; position:absolute; top:100px; left:120px;\">GIS & Spatial Data Science</p>    \n",
    "</div>\n"
   ]
  },
  {
   "cell_type": "code",
   "execution_count": null,
   "id": "4151d913",
   "metadata": {},
   "outputs": [],
   "source": []
  }
 ],
 "metadata": {
  "hide_input": false,
  "kernelspec": {
   "display_name": "Python 3 (ipykernel)",
   "language": "python",
   "name": "python3"
  },
  "language_info": {
   "codemirror_mode": {
    "name": "ipython",
    "version": 3
   },
   "file_extension": ".py",
   "mimetype": "text/x-python",
   "name": "python",
   "nbconvert_exporter": "python",
   "pygments_lexer": "ipython3",
   "version": "3.10.4"
  },
  "nbTranslate": {
   "displayLangs": [
    "*"
   ],
   "hotkey": "alt-t",
   "langInMainMenu": true,
   "sourceLang": "en",
   "targetLang": "fr",
   "useGoogleTranslate": true
  },
  "toc": {
   "base_numbering": 1,
   "nav_menu": {
    "height": "207px",
    "width": "442px"
   },
   "number_sections": true,
   "sideBar": true,
   "skip_h1_title": false,
   "title_cell": "Table of Contents",
   "title_sidebar": "Contents",
   "toc_cell": false,
   "toc_position": {
    "height": "calc(100% - 180px)",
    "left": "10px",
    "top": "150px",
    "width": "313.288px"
   },
   "toc_section_display": true,
   "toc_window_display": false
  },
  "varInspector": {
   "cols": {
    "lenName": 16,
    "lenType": 16,
    "lenVar": 40
   },
   "kernels_config": {
    "python": {
     "delete_cmd_postfix": "",
     "delete_cmd_prefix": "del ",
     "library": "var_list.py",
     "varRefreshCmd": "print(var_dic_list())"
    },
    "r": {
     "delete_cmd_postfix": ") ",
     "delete_cmd_prefix": "rm(",
     "library": "var_list.r",
     "varRefreshCmd": "cat(var_dic_list()) "
    }
   },
   "types_to_exclude": [
    "module",
    "function",
    "builtin_function_or_method",
    "instance",
    "_Feature"
   ],
   "window_display": false
  }
 },
 "nbformat": 4,
 "nbformat_minor": 5
}
